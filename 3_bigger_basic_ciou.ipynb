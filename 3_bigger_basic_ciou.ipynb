{
 "cells": [
  {
   "cell_type": "code",
   "id": "initial_id",
   "metadata": {
    "collapsed": true,
    "ExecuteTime": {
     "end_time": "2024-06-26T06:20:02.850252Z",
     "start_time": "2024-06-26T06:19:58.414487Z"
    }
   },
   "source": [
    "import os\n",
    "import torch\n",
    "import torch.nn as nn\n",
    "import torch.optim as optim\n",
    "import torch.nn.functional as F\n",
    "\n",
    "from tqdm import tqdm\n",
    "\n",
    "from functions.datasets import get_loaders\n",
    "from functions.drawing import save_images_with_bboxes\n",
    "from functions.loop_management import EarlyStopping\n",
    "from functions.losses import CIoULoss\n",
    "from functions.mapping import extract_bboxes\n",
    "from functions.plotting import plot_losses\n",
    "\n",
    "print(torch.__version__)\n",
    "print(torch.cuda.is_available())"
   ],
   "outputs": [
    {
     "name": "stdout",
     "output_type": "stream",
     "text": [
      "2.3.1\n",
      "True\n"
     ]
    }
   ],
   "execution_count": 1
  },
  {
   "metadata": {
    "ExecuteTime": {
     "end_time": "2024-06-26T06:20:03.020623Z",
     "start_time": "2024-06-26T06:20:02.852262Z"
    }
   },
   "cell_type": "code",
   "source": [
    "dataset, train_loader, valid_loader, test_loader = get_loaders(\n",
    "    os.path.join(\"data\", \"images\"),\n",
    "    os.path.join(\"data\", \"coco_annotations.json\"),\n",
    "    prefetch_factor=16\n",
    ")\n",
    "device = torch.device(\"cuda\" if torch.cuda.is_available() else \"cpu\")\n",
    "\n",
    "print(device)"
   ],
   "id": "8f15d136e78af2cd",
   "outputs": [
    {
     "name": "stdout",
     "output_type": "stream",
     "text": [
      "loading annotations into memory...\n",
      "Done (t=0.15s)\n",
      "creating index...\n",
      "index created!\n",
      "cuda\n"
     ]
    }
   ],
   "execution_count": 2
  },
  {
   "metadata": {
    "ExecuteTime": {
     "end_time": "2024-06-26T06:20:03.029827Z",
     "start_time": "2024-06-26T06:20:03.021634Z"
    }
   },
   "cell_type": "code",
   "source": [
    "class BoundingBoxModel(nn.Module):\n",
    "    def __init__(self):\n",
    "        super(BoundingBoxModel, self).__init__()\n",
    "\n",
    "        self.conv1 = nn.Conv2d(3, 32, kernel_size=3, stride=1, padding=1)\n",
    "        self.conv2 = nn.Conv2d(32, 64, kernel_size=3, stride=1, padding=1)\n",
    "        self.conv3 = nn.Conv2d(64, 128, kernel_size=3, stride=1, padding=1)\n",
    "        self.pool = nn.MaxPool2d(kernel_size=2, stride=2, padding=0)\n",
    "        self.fc1 = self._initialize_fc1()\n",
    "        self.fc2 = nn.Linear(128, 4)\n",
    "\n",
    "    def forward(self, x: torch.Tensor) -> torch.Tensor:\n",
    "        x = self._run_first_layers(x)\n",
    "        x = F.relu(self.fc1(x))\n",
    "        x = self.fc2(x)\n",
    "\n",
    "        return x\n",
    "\n",
    "    def _initialize_fc1(self) -> nn.Linear:\n",
    "        with torch.no_grad():\n",
    "            dummy_input = torch.zeros(1, 3, 150, 200)\n",
    "            x = self._run_first_layers(dummy_input)\n",
    "            input_size = x.size(1)\n",
    "\n",
    "            return nn.Linear(input_size, 128)\n",
    "\n",
    "    def _run_first_layers(self, x: torch.Tensor) -> torch.Tensor:\n",
    "        x = self.pool(F.relu(self.conv1(x)))\n",
    "        x = self.pool(F.relu(self.conv2(x)))\n",
    "        x = self.pool(F.relu(self.conv3(x)))\n",
    "        x = torch.flatten(x, start_dim=1)\n",
    "\n",
    "        return x"
   ],
   "id": "138bfb6aa14e290e",
   "outputs": [],
   "execution_count": 3
  },
  {
   "metadata": {
    "ExecuteTime": {
     "end_time": "2024-06-26T06:32:48.082460Z",
     "start_time": "2024-06-26T06:32:47.992817Z"
    }
   },
   "cell_type": "code",
   "source": [
    "model = BoundingBoxModel().to(device)\n",
    "criterion = CIoULoss()\n",
    "optimizer = optim.Adam(model.parameters(), lr=0.001)"
   ],
   "id": "ab9bee4d58e26681",
   "outputs": [],
   "execution_count": 8
  },
  {
   "metadata": {
    "ExecuteTime": {
     "end_time": "2024-06-26T06:43:43.185074Z",
     "start_time": "2024-06-26T06:32:48.223752Z"
    }
   },
   "cell_type": "code",
   "source": [
    "early_stopping = EarlyStopping(patience=7, verbose=True)\n",
    "num_epochs = 25\n",
    "epochs_used = 0\n",
    "train_losses = []\n",
    "val_losses = []\n",
    "\n",
    "for epoch in range(num_epochs):\n",
    "    model.train()\n",
    "    running_loss = 0.0\n",
    "\n",
    "    train_loader_tqdm = tqdm(train_loader, desc=f\"Epoch {epoch + 1}/{num_epochs} - Training\")\n",
    "\n",
    "    for images, targets in train_loader_tqdm:\n",
    "        images = images.to(device)\n",
    "        bboxes = extract_bboxes(targets)\n",
    "        bboxes = torch.stack(bboxes).to(device)\n",
    "\n",
    "        optimizer.zero_grad(set_to_none=True)\n",
    "\n",
    "        outputs = model(images)\n",
    "        loss = criterion(outputs, bboxes)\n",
    "\n",
    "        loss.backward()\n",
    "        optimizer.step()\n",
    "\n",
    "        running_loss += loss.item()\n",
    "\n",
    "        train_loader_tqdm.set_postfix({\"Train Loss\": running_loss / len(train_loader)})\n",
    "\n",
    "    epoch_train_loss = running_loss / len(train_loader)\n",
    "\n",
    "    train_losses.append(epoch_train_loss)\n",
    "    print(f\"Epoch {epoch + 1}, Loss: {epoch_train_loss}\")\n",
    "    model.eval()\n",
    "\n",
    "    val_loss = 0.0\n",
    "    valid_loader_tqdm = tqdm(valid_loader, desc=f\"Epoch {epoch + 1}/{num_epochs} - Validation\")\n",
    "\n",
    "    with torch.no_grad():\n",
    "        for images, targets in valid_loader_tqdm:\n",
    "            images = images.to(device)\n",
    "            bboxes = extract_bboxes(targets)\n",
    "            bboxes = torch.stack(bboxes).to(device)\n",
    "            outputs = model(images)\n",
    "            loss = criterion(outputs, bboxes)\n",
    "            val_loss += loss.item()\n",
    "\n",
    "            valid_loader_tqdm.set_postfix({\"Val Loss\": val_loss / len(valid_loader)})\n",
    "\n",
    "    epoch_val_loss = val_loss / len(valid_loader)\n",
    "    epochs_used += 1\n",
    "\n",
    "    val_losses.append(epoch_val_loss)\n",
    "    print(f\"Validation Loss: {epoch_val_loss}\")\n",
    "\n",
    "    early_stopping(\n",
    "        epoch_val_loss, \n",
    "        model, \n",
    "        path=os.path.join(\"checkpoints\", \"checkpoint_3_bigger_basic_ciou.pt\")\n",
    "    )\n",
    "\n",
    "    if early_stopping.early_stop:\n",
    "        print(\"Early stopping\")\n",
    "        break\n",
    "\n",
    "print(\"Training complete\")"
   ],
   "id": "443f8245a4f5ed2d",
   "outputs": [
    {
     "name": "stderr",
     "output_type": "stream",
     "text": [
      "Epoch 1/25 - Training: 100%|██████████| 220/220 [00:14<00:00, 15.13it/s, Train Loss=0.612]\n"
     ]
    },
    {
     "name": "stdout",
     "output_type": "stream",
     "text": [
      "Epoch 1, Loss: 0.6123014162887227\n"
     ]
    },
    {
     "name": "stderr",
     "output_type": "stream",
     "text": [
      "Epoch 1/25 - Validation: 100%|██████████| 220/220 [00:12<00:00, 17.40it/s, Val Loss=0.468]\n"
     ]
    },
    {
     "name": "stdout",
     "output_type": "stream",
     "text": [
      "Validation Loss: 0.46796103729443117\n",
      "Validation loss decreased (inf --> 0.467961).  Saving model ...\n"
     ]
    },
    {
     "name": "stderr",
     "output_type": "stream",
     "text": [
      "Epoch 2/25 - Training: 100%|██████████| 220/220 [00:14<00:00, 15.71it/s, Train Loss=0.379]\n"
     ]
    },
    {
     "name": "stdout",
     "output_type": "stream",
     "text": [
      "Epoch 2, Loss: 0.3790718025781892\n"
     ]
    },
    {
     "name": "stderr",
     "output_type": "stream",
     "text": [
      "Epoch 2/25 - Validation: 100%|██████████| 220/220 [00:12<00:00, 17.50it/s, Val Loss=0.431]\n"
     ]
    },
    {
     "name": "stdout",
     "output_type": "stream",
     "text": [
      "Validation Loss: 0.430527643317526\n",
      "Validation loss decreased (0.467961 --> 0.430528).  Saving model ...\n"
     ]
    },
    {
     "name": "stderr",
     "output_type": "stream",
     "text": [
      "Epoch 3/25 - Training: 100%|██████████| 220/220 [00:13<00:00, 15.80it/s, Train Loss=0.34] \n"
     ]
    },
    {
     "name": "stdout",
     "output_type": "stream",
     "text": [
      "Epoch 3, Loss: 0.33973743576895105\n"
     ]
    },
    {
     "name": "stderr",
     "output_type": "stream",
     "text": [
      "Epoch 3/25 - Validation: 100%|██████████| 220/220 [00:12<00:00, 17.57it/s, Val Loss=0.353]\n"
     ]
    },
    {
     "name": "stdout",
     "output_type": "stream",
     "text": [
      "Validation Loss: 0.35266960954124277\n",
      "Validation loss decreased (0.430528 --> 0.352670).  Saving model ...\n"
     ]
    },
    {
     "name": "stderr",
     "output_type": "stream",
     "text": [
      "Epoch 4/25 - Training: 100%|██████████| 220/220 [00:13<00:00, 15.72it/s, Train Loss=0.323]\n"
     ]
    },
    {
     "name": "stdout",
     "output_type": "stream",
     "text": [
      "Epoch 4, Loss: 0.3229174426333471\n"
     ]
    },
    {
     "name": "stderr",
     "output_type": "stream",
     "text": [
      "Epoch 4/25 - Validation: 100%|██████████| 220/220 [00:12<00:00, 17.79it/s, Val Loss=0.305]\n"
     ]
    },
    {
     "name": "stdout",
     "output_type": "stream",
     "text": [
      "Validation Loss: 0.30462596755136145\n",
      "Validation loss decreased (0.352670 --> 0.304626).  Saving model ...\n"
     ]
    },
    {
     "name": "stderr",
     "output_type": "stream",
     "text": [
      "Epoch 5/25 - Training: 100%|██████████| 220/220 [00:13<00:00, 15.87it/s, Train Loss=0.315]\n"
     ]
    },
    {
     "name": "stdout",
     "output_type": "stream",
     "text": [
      "Epoch 5, Loss: 0.3151903357018124\n"
     ]
    },
    {
     "name": "stderr",
     "output_type": "stream",
     "text": [
      "Epoch 5/25 - Validation: 100%|██████████| 220/220 [00:12<00:00, 17.55it/s, Val Loss=0.295]\n"
     ]
    },
    {
     "name": "stdout",
     "output_type": "stream",
     "text": [
      "Validation Loss: 0.2954269333996556\n",
      "Validation loss decreased (0.304626 --> 0.295427).  Saving model ...\n"
     ]
    },
    {
     "name": "stderr",
     "output_type": "stream",
     "text": [
      "Epoch 6/25 - Training: 100%|██████████| 220/220 [00:14<00:00, 15.67it/s, Train Loss=0.303]\n"
     ]
    },
    {
     "name": "stdout",
     "output_type": "stream",
     "text": [
      "Epoch 6, Loss: 0.3031785012646155\n"
     ]
    },
    {
     "name": "stderr",
     "output_type": "stream",
     "text": [
      "Epoch 6/25 - Validation: 100%|██████████| 220/220 [00:12<00:00, 17.64it/s, Val Loss=0.344]\n"
     ]
    },
    {
     "name": "stdout",
     "output_type": "stream",
     "text": [
      "Validation Loss: 0.3444438962773843\n",
      "EarlyStopping counter: 1 out of 7\n"
     ]
    },
    {
     "name": "stderr",
     "output_type": "stream",
     "text": [
      "Epoch 7/25 - Training: 100%|██████████| 220/220 [00:13<00:00, 15.93it/s, Train Loss=0.301]\n"
     ]
    },
    {
     "name": "stdout",
     "output_type": "stream",
     "text": [
      "Epoch 7, Loss: 0.3007302330298857\n"
     ]
    },
    {
     "name": "stderr",
     "output_type": "stream",
     "text": [
      "Epoch 7/25 - Validation: 100%|██████████| 220/220 [00:12<00:00, 17.72it/s, Val Loss=0.308]\n"
     ]
    },
    {
     "name": "stdout",
     "output_type": "stream",
     "text": [
      "Validation Loss: 0.30767716020345687\n",
      "EarlyStopping counter: 2 out of 7\n"
     ]
    },
    {
     "name": "stderr",
     "output_type": "stream",
     "text": [
      "Epoch 8/25 - Training: 100%|██████████| 220/220 [00:13<00:00, 15.99it/s, Train Loss=0.307]\n"
     ]
    },
    {
     "name": "stdout",
     "output_type": "stream",
     "text": [
      "Epoch 8, Loss: 0.30666463347998535\n"
     ]
    },
    {
     "name": "stderr",
     "output_type": "stream",
     "text": [
      "Epoch 8/25 - Validation: 100%|██████████| 220/220 [00:12<00:00, 17.88it/s, Val Loss=0.311]\n"
     ]
    },
    {
     "name": "stdout",
     "output_type": "stream",
     "text": [
      "Validation Loss: 0.3114020659164949\n",
      "EarlyStopping counter: 3 out of 7\n"
     ]
    },
    {
     "name": "stderr",
     "output_type": "stream",
     "text": [
      "Epoch 9/25 - Training: 100%|██████████| 220/220 [00:13<00:00, 15.87it/s, Train Loss=0.29] \n"
     ]
    },
    {
     "name": "stdout",
     "output_type": "stream",
     "text": [
      "Epoch 9, Loss: 0.2904421069405296\n"
     ]
    },
    {
     "name": "stderr",
     "output_type": "stream",
     "text": [
      "Epoch 9/25 - Validation: 100%|██████████| 220/220 [00:12<00:00, 17.77it/s, Val Loss=0.293]\n"
     ]
    },
    {
     "name": "stdout",
     "output_type": "stream",
     "text": [
      "Validation Loss: 0.29323951439423995\n",
      "Validation loss decreased (0.295427 --> 0.293240).  Saving model ...\n"
     ]
    },
    {
     "name": "stderr",
     "output_type": "stream",
     "text": [
      "Epoch 10/25 - Training: 100%|██████████| 220/220 [00:13<00:00, 15.97it/s, Train Loss=0.281]\n"
     ]
    },
    {
     "name": "stdout",
     "output_type": "stream",
     "text": [
      "Epoch 10, Loss: 0.28100241862914777\n"
     ]
    },
    {
     "name": "stderr",
     "output_type": "stream",
     "text": [
      "Epoch 10/25 - Validation: 100%|██████████| 220/220 [00:12<00:00, 18.00it/s, Val Loss=0.278]\n"
     ]
    },
    {
     "name": "stdout",
     "output_type": "stream",
     "text": [
      "Validation Loss: 0.2775367803871632\n",
      "Validation loss decreased (0.293240 --> 0.277537).  Saving model ...\n"
     ]
    },
    {
     "name": "stderr",
     "output_type": "stream",
     "text": [
      "Epoch 11/25 - Training: 100%|██████████| 220/220 [00:13<00:00, 16.00it/s, Train Loss=0.286]\n"
     ]
    },
    {
     "name": "stdout",
     "output_type": "stream",
     "text": [
      "Epoch 11, Loss: 0.2858503956686367\n"
     ]
    },
    {
     "name": "stderr",
     "output_type": "stream",
     "text": [
      "Epoch 11/25 - Validation: 100%|██████████| 220/220 [00:12<00:00, 17.82it/s, Val Loss=0.29] \n"
     ]
    },
    {
     "name": "stdout",
     "output_type": "stream",
     "text": [
      "Validation Loss: 0.28992347527634016\n",
      "EarlyStopping counter: 1 out of 7\n"
     ]
    },
    {
     "name": "stderr",
     "output_type": "stream",
     "text": [
      "Epoch 12/25 - Training: 100%|██████████| 220/220 [00:13<00:00, 15.93it/s, Train Loss=0.281]\n"
     ]
    },
    {
     "name": "stdout",
     "output_type": "stream",
     "text": [
      "Epoch 12, Loss: 0.2805572677065026\n"
     ]
    },
    {
     "name": "stderr",
     "output_type": "stream",
     "text": [
      "Epoch 12/25 - Validation: 100%|██████████| 220/220 [00:12<00:00, 17.82it/s, Val Loss=0.27] \n"
     ]
    },
    {
     "name": "stdout",
     "output_type": "stream",
     "text": [
      "Validation Loss: 0.26955786042592744\n",
      "Validation loss decreased (0.277537 --> 0.269558).  Saving model ...\n"
     ]
    },
    {
     "name": "stderr",
     "output_type": "stream",
     "text": [
      "Epoch 13/25 - Training: 100%|██████████| 220/220 [00:13<00:00, 15.96it/s, Train Loss=0.28] \n"
     ]
    },
    {
     "name": "stdout",
     "output_type": "stream",
     "text": [
      "Epoch 13, Loss: 0.28025613515214487\n"
     ]
    },
    {
     "name": "stderr",
     "output_type": "stream",
     "text": [
      "Epoch 13/25 - Validation: 100%|██████████| 220/220 [00:12<00:00, 17.78it/s, Val Loss=0.293]\n"
     ]
    },
    {
     "name": "stdout",
     "output_type": "stream",
     "text": [
      "Validation Loss: 0.293071175231175\n",
      "EarlyStopping counter: 1 out of 7\n"
     ]
    },
    {
     "name": "stderr",
     "output_type": "stream",
     "text": [
      "Epoch 14/25 - Training: 100%|██████████| 220/220 [00:13<00:00, 15.89it/s, Train Loss=0.27] \n"
     ]
    },
    {
     "name": "stdout",
     "output_type": "stream",
     "text": [
      "Epoch 14, Loss: 0.2695190698585727\n"
     ]
    },
    {
     "name": "stderr",
     "output_type": "stream",
     "text": [
      "Epoch 14/25 - Validation: 100%|██████████| 220/220 [00:12<00:00, 17.90it/s, Val Loss=0.272]\n"
     ]
    },
    {
     "name": "stdout",
     "output_type": "stream",
     "text": [
      "Validation Loss: 0.2720192628827962\n",
      "EarlyStopping counter: 2 out of 7\n"
     ]
    },
    {
     "name": "stderr",
     "output_type": "stream",
     "text": [
      "Epoch 15/25 - Training: 100%|██████████| 220/220 [00:13<00:00, 16.09it/s, Train Loss=0.277]\n"
     ]
    },
    {
     "name": "stdout",
     "output_type": "stream",
     "text": [
      "Epoch 15, Loss: 0.2773263244466348\n"
     ]
    },
    {
     "name": "stderr",
     "output_type": "stream",
     "text": [
      "Epoch 15/25 - Validation: 100%|██████████| 220/220 [00:12<00:00, 17.93it/s, Val Loss=0.269]\n"
     ]
    },
    {
     "name": "stdout",
     "output_type": "stream",
     "text": [
      "Validation Loss: 0.26854008544575086\n",
      "Validation loss decreased (0.269558 --> 0.268540).  Saving model ...\n"
     ]
    },
    {
     "name": "stderr",
     "output_type": "stream",
     "text": [
      "Epoch 16/25 - Training: 100%|██████████| 220/220 [00:13<00:00, 16.11it/s, Train Loss=0.271]\n"
     ]
    },
    {
     "name": "stdout",
     "output_type": "stream",
     "text": [
      "Epoch 16, Loss: 0.2710941665551879\n"
     ]
    },
    {
     "name": "stderr",
     "output_type": "stream",
     "text": [
      "Epoch 16/25 - Validation: 100%|██████████| 220/220 [00:12<00:00, 17.96it/s, Val Loss=0.261]\n"
     ]
    },
    {
     "name": "stdout",
     "output_type": "stream",
     "text": [
      "Validation Loss: 0.26075362366708843\n",
      "Validation loss decreased (0.268540 --> 0.260754).  Saving model ...\n"
     ]
    },
    {
     "name": "stderr",
     "output_type": "stream",
     "text": [
      "Epoch 17/25 - Training: 100%|██████████| 220/220 [00:13<00:00, 16.00it/s, Train Loss=0.266]\n"
     ]
    },
    {
     "name": "stdout",
     "output_type": "stream",
     "text": [
      "Epoch 17, Loss: 0.2660198998722163\n"
     ]
    },
    {
     "name": "stderr",
     "output_type": "stream",
     "text": [
      "Epoch 17/25 - Validation: 100%|██████████| 220/220 [00:12<00:00, 17.80it/s, Val Loss=0.258]\n"
     ]
    },
    {
     "name": "stdout",
     "output_type": "stream",
     "text": [
      "Validation Loss: 0.25757386298342183\n",
      "Validation loss decreased (0.260754 --> 0.257574).  Saving model ...\n"
     ]
    },
    {
     "name": "stderr",
     "output_type": "stream",
     "text": [
      "Epoch 18/25 - Training: 100%|██████████| 220/220 [00:13<00:00, 16.01it/s, Train Loss=0.259]\n"
     ]
    },
    {
     "name": "stdout",
     "output_type": "stream",
     "text": [
      "Epoch 18, Loss: 0.25902087878097185\n"
     ]
    },
    {
     "name": "stderr",
     "output_type": "stream",
     "text": [
      "Epoch 18/25 - Validation: 100%|██████████| 220/220 [00:12<00:00, 17.94it/s, Val Loss=0.255]\n"
     ]
    },
    {
     "name": "stdout",
     "output_type": "stream",
     "text": [
      "Validation Loss: 0.25527092760259457\n",
      "Validation loss decreased (0.257574 --> 0.255271).  Saving model ...\n"
     ]
    },
    {
     "name": "stderr",
     "output_type": "stream",
     "text": [
      "Epoch 19/25 - Training: 100%|██████████| 220/220 [00:13<00:00, 16.02it/s, Train Loss=0.256]\n"
     ]
    },
    {
     "name": "stdout",
     "output_type": "stream",
     "text": [
      "Epoch 19, Loss: 0.2556777207688852\n"
     ]
    },
    {
     "name": "stderr",
     "output_type": "stream",
     "text": [
      "Epoch 19/25 - Validation: 100%|██████████| 220/220 [00:12<00:00, 17.91it/s, Val Loss=0.268]\n"
     ]
    },
    {
     "name": "stdout",
     "output_type": "stream",
     "text": [
      "Validation Loss: 0.2676641939715906\n",
      "EarlyStopping counter: 1 out of 7\n"
     ]
    },
    {
     "name": "stderr",
     "output_type": "stream",
     "text": [
      "Epoch 20/25 - Training: 100%|██████████| 220/220 [00:13<00:00, 16.11it/s, Train Loss=0.253]\n"
     ]
    },
    {
     "name": "stdout",
     "output_type": "stream",
     "text": [
      "Epoch 20, Loss: 0.25339115262031553\n"
     ]
    },
    {
     "name": "stderr",
     "output_type": "stream",
     "text": [
      "Epoch 20/25 - Validation: 100%|██████████| 220/220 [00:12<00:00, 17.86it/s, Val Loss=0.264]\n"
     ]
    },
    {
     "name": "stdout",
     "output_type": "stream",
     "text": [
      "Validation Loss: 0.2642339435490695\n",
      "EarlyStopping counter: 2 out of 7\n"
     ]
    },
    {
     "name": "stderr",
     "output_type": "stream",
     "text": [
      "Epoch 21/25 - Training: 100%|██████████| 220/220 [00:13<00:00, 16.09it/s, Train Loss=0.253]\n"
     ]
    },
    {
     "name": "stdout",
     "output_type": "stream",
     "text": [
      "Epoch 21, Loss: 0.2525068838487972\n"
     ]
    },
    {
     "name": "stderr",
     "output_type": "stream",
     "text": [
      "Epoch 21/25 - Validation: 100%|██████████| 220/220 [00:12<00:00, 17.81it/s, Val Loss=0.246] \n"
     ]
    },
    {
     "name": "stdout",
     "output_type": "stream",
     "text": [
      "Validation Loss: 0.24648549671877515\n",
      "Validation loss decreased (0.255271 --> 0.246485).  Saving model ...\n"
     ]
    },
    {
     "name": "stderr",
     "output_type": "stream",
     "text": [
      "Epoch 22/25 - Training: 100%|██████████| 220/220 [00:13<00:00, 16.17it/s, Train Loss=0.249] \n"
     ]
    },
    {
     "name": "stdout",
     "output_type": "stream",
     "text": [
      "Epoch 22, Loss: 0.24912595796314152\n"
     ]
    },
    {
     "name": "stderr",
     "output_type": "stream",
     "text": [
      "Epoch 22/25 - Validation: 100%|██████████| 220/220 [00:12<00:00, 17.98it/s, Val Loss=0.256]\n"
     ]
    },
    {
     "name": "stdout",
     "output_type": "stream",
     "text": [
      "Validation Loss: 0.2558188794688745\n",
      "EarlyStopping counter: 1 out of 7\n"
     ]
    },
    {
     "name": "stderr",
     "output_type": "stream",
     "text": [
      "Epoch 23/25 - Training: 100%|██████████| 220/220 [00:13<00:00, 16.03it/s, Train Loss=0.243]\n"
     ]
    },
    {
     "name": "stdout",
     "output_type": "stream",
     "text": [
      "Epoch 23, Loss: 0.24302140447226436\n"
     ]
    },
    {
     "name": "stderr",
     "output_type": "stream",
     "text": [
      "Epoch 23/25 - Validation: 100%|██████████| 220/220 [00:12<00:00, 18.01it/s, Val Loss=0.237] \n"
     ]
    },
    {
     "name": "stdout",
     "output_type": "stream",
     "text": [
      "Validation Loss: 0.23674679452722722\n",
      "Validation loss decreased (0.246485 --> 0.236747).  Saving model ...\n"
     ]
    },
    {
     "name": "stderr",
     "output_type": "stream",
     "text": [
      "Epoch 24/25 - Training: 100%|██████████| 220/220 [00:13<00:00, 16.02it/s, Train Loss=0.244]\n"
     ]
    },
    {
     "name": "stdout",
     "output_type": "stream",
     "text": [
      "Epoch 24, Loss: 0.24369174905798652\n"
     ]
    },
    {
     "name": "stderr",
     "output_type": "stream",
     "text": [
      "Epoch 24/25 - Validation: 100%|██████████| 220/220 [00:12<00:00, 17.99it/s, Val Loss=0.249] \n"
     ]
    },
    {
     "name": "stdout",
     "output_type": "stream",
     "text": [
      "Validation Loss: 0.24936399568210948\n",
      "EarlyStopping counter: 1 out of 7\n"
     ]
    },
    {
     "name": "stderr",
     "output_type": "stream",
     "text": [
      "Epoch 25/25 - Training: 100%|██████████| 220/220 [00:13<00:00, 15.96it/s, Train Loss=0.238]\n"
     ]
    },
    {
     "name": "stdout",
     "output_type": "stream",
     "text": [
      "Epoch 25, Loss: 0.23780539713122628\n"
     ]
    },
    {
     "name": "stderr",
     "output_type": "stream",
     "text": [
      "Epoch 25/25 - Validation: 100%|██████████| 220/220 [00:12<00:00, 18.07it/s, Val Loss=0.234] "
     ]
    },
    {
     "name": "stdout",
     "output_type": "stream",
     "text": [
      "Validation Loss: 0.2339663911272179\n",
      "Validation loss decreased (0.236747 --> 0.233966).  Saving model ...\n",
      "Training complete\n"
     ]
    },
    {
     "name": "stderr",
     "output_type": "stream",
     "text": [
      "\n"
     ]
    }
   ],
   "execution_count": 9
  },
  {
   "metadata": {
    "ExecuteTime": {
     "end_time": "2024-06-26T06:43:43.393280Z",
     "start_time": "2024-06-26T06:43:43.186079Z"
    }
   },
   "cell_type": "code",
   "source": "plot_losses(epochs_used, train_losses, val_losses)",
   "id": "4546c5dcfed2337d",
   "outputs": [
    {
     "name": "stderr",
     "output_type": "stream",
     "text": [
      "C:\\Users\\mmale\\.conda\\envs\\bounding_box_detection_ham10000_torch\\Lib\\site-packages\\seaborn\\_oldcore.py:1498: FutureWarning: is_categorical_dtype is deprecated and will be removed in a future version. Use isinstance(dtype, CategoricalDtype) instead\n",
      "  if pd.api.types.is_categorical_dtype(vector):\n",
      "C:\\Users\\mmale\\.conda\\envs\\bounding_box_detection_ham10000_torch\\Lib\\site-packages\\seaborn\\_oldcore.py:1498: FutureWarning: is_categorical_dtype is deprecated and will be removed in a future version. Use isinstance(dtype, CategoricalDtype) instead\n",
      "  if pd.api.types.is_categorical_dtype(vector):\n",
      "C:\\Users\\mmale\\.conda\\envs\\bounding_box_detection_ham10000_torch\\Lib\\site-packages\\seaborn\\_oldcore.py:1119: FutureWarning: use_inf_as_na option is deprecated and will be removed in a future version. Convert inf values to NaN before operating instead.\n",
      "  with pd.option_context('mode.use_inf_as_na', True):\n",
      "C:\\Users\\mmale\\.conda\\envs\\bounding_box_detection_ham10000_torch\\Lib\\site-packages\\seaborn\\_oldcore.py:1119: FutureWarning: use_inf_as_na option is deprecated and will be removed in a future version. Convert inf values to NaN before operating instead.\n",
      "  with pd.option_context('mode.use_inf_as_na', True):\n",
      "C:\\Users\\mmale\\.conda\\envs\\bounding_box_detection_ham10000_torch\\Lib\\site-packages\\seaborn\\_oldcore.py:1498: FutureWarning: is_categorical_dtype is deprecated and will be removed in a future version. Use isinstance(dtype, CategoricalDtype) instead\n",
      "  if pd.api.types.is_categorical_dtype(vector):\n",
      "C:\\Users\\mmale\\.conda\\envs\\bounding_box_detection_ham10000_torch\\Lib\\site-packages\\seaborn\\_oldcore.py:1498: FutureWarning: is_categorical_dtype is deprecated and will be removed in a future version. Use isinstance(dtype, CategoricalDtype) instead\n",
      "  if pd.api.types.is_categorical_dtype(vector):\n",
      "C:\\Users\\mmale\\.conda\\envs\\bounding_box_detection_ham10000_torch\\Lib\\site-packages\\seaborn\\_oldcore.py:1119: FutureWarning: use_inf_as_na option is deprecated and will be removed in a future version. Convert inf values to NaN before operating instead.\n",
      "  with pd.option_context('mode.use_inf_as_na', True):\n",
      "C:\\Users\\mmale\\.conda\\envs\\bounding_box_detection_ham10000_torch\\Lib\\site-packages\\seaborn\\_oldcore.py:1119: FutureWarning: use_inf_as_na option is deprecated and will be removed in a future version. Convert inf values to NaN before operating instead.\n",
      "  with pd.option_context('mode.use_inf_as_na', True):\n"
     ]
    },
    {
     "data": {
      "text/plain": [
       "<Figure size 1000x500 with 1 Axes>"
      ],
      "image/png": "[encoded data removed]"
     },
     "metadata": {},
     "output_type": "display_data"
    }
   ],
   "execution_count": 10
  },
  {
   "metadata": {
    "ExecuteTime": {
     "end_time": "2024-06-26T06:43:55.862352Z",
     "start_time": "2024-06-26T06:43:43.394288Z"
    }
   },
   "cell_type": "code",
   "source": [
    "model.eval()\n",
    "test_loss = 0.0\n",
    "test_loader_tqdm = tqdm(test_loader, desc=\"Testing\")\n",
    "\n",
    "with torch.no_grad():\n",
    "    for images, targets in test_loader_tqdm:\n",
    "        images = images.to(device)\n",
    "        bboxes = extract_bboxes(targets)\n",
    "        bboxes = torch.stack(bboxes).to(device)\n",
    "        outputs = model(images)\n",
    "        loss = criterion(outputs, bboxes)\n",
    "        test_loss += loss.item()\n",
    "\n",
    "        test_loader_tqdm.set_postfix({\"Test Loss\": test_loss / len(test_loader)})\n",
    "\n",
    "test_loss = test_loss / len(test_loader)\n",
    "\n",
    "print(f\"Test Loss: {test_loss}\")"
   ],
   "id": "1bebee20f8180d6d",
   "outputs": [
    {
     "name": "stderr",
     "output_type": "stream",
     "text": [
      "Testing: 100%|██████████| 220/220 [00:12<00:00, 17.66it/s, Test Loss=0.234] "
     ]
    },
    {
     "name": "stdout",
     "output_type": "stream",
     "text": [
      "Test Loss: 0.2339663911272179\n"
     ]
    },
    {
     "name": "stderr",
     "output_type": "stream",
     "text": [
      "\n"
     ]
    }
   ],
   "execution_count": 11
  },
  {
   "metadata": {
    "ExecuteTime": {
     "end_time": "2024-06-26T06:44:22.688109Z",
     "start_time": "2024-06-26T06:43:55.863357Z"
    }
   },
   "cell_type": "code",
   "source": "save_images_with_bboxes(model, test_loader, device, dataset, \"3_bigger_basic_ciou_output_imgs\")",
   "id": "a82084f867783477",
   "outputs": [
    {
     "name": "stdout",
     "output_type": "stream",
     "text": [
      "Images with bounding boxes have been saved to data\\3_bigger_basic_ciou_output_imgs\n"
     ]
    }
   ],
   "execution_count": 12
  },
  {
   "metadata": {
    "ExecuteTime": {
     "end_time": "2024-06-26T06:44:22.807583Z",
     "start_time": "2024-06-26T06:44:22.689116Z"
    }
   },
   "cell_type": "code",
   "source": [
    "checkpoint = {\n",
    "    'epoch': num_epochs,\n",
    "    'model_state_dict': model.state_dict(),\n",
    "    'optimizer_state_dict': optimizer.state_dict(),\n",
    "    'loss': test_loss,\n",
    "}\n",
    "torch.save(checkpoint, os.path.join(\"checkpoints\", \"checkpoint_3_bigger_basic_ciou.pt\"))"
   ],
   "id": "3bb59b2929a57e82",
   "outputs": [],
   "execution_count": 13
  },
  {
   "metadata": {},
   "cell_type": "code",
   "outputs": [],
   "execution_count": null,
   "source": "",
   "id": "5822d715eeca4878"
  }
 ],
 "metadata": {
  "kernelspec": {
   "display_name": "Python [conda env:.conda-bounding_box_detection_ham10000_torch] *",
   "language": "python",
   "name": "conda-env-.conda-bounding_box_detection_ham10000_torch-py"
  },
  "language_info": {
   "codemirror_mode": {
    "name": "ipython",
    "version": 2
   },
   "file_extension": ".py",
   "mimetype": "text/x-python",
   "name": "python",
   "nbconvert_exporter": "python",
   "pygments_lexer": "ipython2",
   "version": "2.7.6"
  }
 },
 "nbformat": 4,
 "nbformat_minor": 5
}

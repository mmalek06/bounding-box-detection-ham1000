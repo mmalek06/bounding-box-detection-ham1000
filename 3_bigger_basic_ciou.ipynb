{
 "cells": [
  {
   "cell_type": "code",
   "execution_count": 1,
   "id": "initial_id",
   "metadata": {
    "ExecuteTime": {
     "end_time": "2024-06-27T06:33:26.959780Z",
     "start_time": "2024-06-27T06:33:22.473033Z"
    },
    "collapsed": true,
    "execution": {
     "iopub.execute_input": "2024-07-06T03:28:42.503936Z",
     "iopub.status.busy": "2024-07-06T03:28:42.503936Z",
     "iopub.status.idle": "2024-07-06T03:28:46.460981Z",
     "shell.execute_reply": "2024-07-06T03:28:46.460981Z"
    }
   },
   "outputs": [
    {
     "name": "stdout",
     "output_type": "stream",
     "text": [
      "2.3.1\n",
      "True\n"
     ]
    }
   ],
   "source": [
    "import os\n",
    "import torch\n",
    "import torch.optim as optim\n",
    "\n",
    "from tqdm import tqdm\n",
    "\n",
    "from architectures.bigger_basic import BoundingBoxModel\n",
    "from functions.datasets import get_loaders\n",
    "from functions.loop_management import EarlyStopping\n",
    "from functions.losses import CIoULoss\n",
    "from functions.mapping import extract_bboxes\n",
    "from functions.plotting import plot_losses\n",
    "\n",
    "print(torch.__version__)\n",
    "print(torch.cuda.is_available())"
   ]
  },
  {
   "cell_type": "code",
   "execution_count": 2,
   "id": "8f15d136e78af2cd",
   "metadata": {
    "ExecuteTime": {
     "end_time": "2024-06-27T06:33:27.113941Z",
     "start_time": "2024-06-27T06:33:26.961785Z"
    },
    "execution": {
     "iopub.execute_input": "2024-07-06T03:28:46.464987Z",
     "iopub.status.busy": "2024-07-06T03:28:46.463986Z",
     "iopub.status.idle": "2024-07-06T03:28:46.601843Z",
     "shell.execute_reply": "2024-07-06T03:28:46.601010Z"
    }
   },
   "outputs": [
    {
     "name": "stdout",
     "output_type": "stream",
     "text": [
      "loading annotations into memory...\n",
      "Done (t=0.12s)\n",
      "creating index...\n",
      "index created!\n",
      "cuda\n"
     ]
    }
   ],
   "source": [
    "RUN_NUMBER = os.environ[\"RUN_NUMBER\"]\n",
    "dataset, train_loader, valid_loader = get_loaders(\n",
    "    os.path.join(\"data\", \"train_images\"),\n",
    "    os.path.join(\"data\", \"train_coco_annotations.json\"),\n",
    "    prefetch_factor=16\n",
    ")\n",
    "device = torch.device(\"cuda\" if torch.cuda.is_available() else \"cpu\")\n",
    "\n",
    "print(device)"
   ]
  },
  {
   "cell_type": "code",
   "execution_count": 3,
   "id": "ab9bee4d58e26681",
   "metadata": {
    "ExecuteTime": {
     "end_time": "2024-06-27T06:52:38.016318Z",
     "start_time": "2024-06-27T06:52:37.922184Z"
    },
    "execution": {
     "iopub.execute_input": "2024-07-06T03:28:46.604357Z",
     "iopub.status.busy": "2024-07-06T03:28:46.604357Z",
     "iopub.status.idle": "2024-07-06T03:28:48.661402Z",
     "shell.execute_reply": "2024-07-06T03:28:48.661402Z"
    }
   },
   "outputs": [],
   "source": [
    "model = BoundingBoxModel().to(device)\n",
    "criterion = CIoULoss()\n",
    "optimizer = optim.Adam(model.parameters(), lr=0.001)"
   ]
  },
  {
   "cell_type": "code",
   "id": "443f8245a4f5ed2d",
   "metadata": {
    "execution": {
     "iopub.execute_input": "2024-07-06T03:28:48.665408Z",
     "iopub.status.busy": "2024-07-06T03:28:48.665408Z",
     "iopub.status.idle": "2024-07-06T03:39:20.077155Z",
     "shell.execute_reply": "2024-07-06T03:39:20.077155Z"
    }
   },
   "source": [
    "early_stopping = EarlyStopping(patience=7, verbose=True)\n",
    "num_epochs = 25\n",
    "epochs_used = 0\n",
    "train_losses = []\n",
    "val_losses = []\n",
    "\n",
    "for epoch in range(num_epochs):\n",
    "    model.train()\n",
    "    running_loss = 0.0\n",
    "\n",
    "    train_loader_tqdm = tqdm(train_loader, desc=f\"Epoch {epoch + 1}/{num_epochs} - Training\")\n",
    "\n",
    "    for images, targets in train_loader_tqdm:\n",
    "        images = images.to(device)\n",
    "        bboxes = extract_bboxes(targets)\n",
    "        bboxes = torch.stack(bboxes).to(device)\n",
    "\n",
    "        optimizer.zero_grad(set_to_none=True)\n",
    "\n",
    "        outputs = model(images)\n",
    "        loss = criterion(outputs, bboxes)\n",
    "\n",
    "        loss.backward()\n",
    "        optimizer.step()\n",
    "\n",
    "        running_loss += loss.item()\n",
    "\n",
    "        train_loader_tqdm.set_postfix({\"Train Loss\": running_loss / len(train_loader)})\n",
    "\n",
    "    epoch_train_loss = running_loss / len(train_loader)\n",
    "\n",
    "    train_losses.append(epoch_train_loss)\n",
    "    print(f\"Epoch {epoch + 1}, Loss: {epoch_train_loss}\")\n",
    "    model.eval()\n",
    "\n",
    "    val_loss = 0.0\n",
    "    valid_loader_tqdm = tqdm(valid_loader, desc=f\"Epoch {epoch + 1}/{num_epochs} - Validation\")\n",
    "\n",
    "    with torch.no_grad():\n",
    "        for images, targets in valid_loader_tqdm:\n",
    "            images = images.to(device)\n",
    "            bboxes = extract_bboxes(targets)\n",
    "            bboxes = torch.stack(bboxes).to(device)\n",
    "            outputs = model(images)\n",
    "            loss = criterion(outputs, bboxes)\n",
    "            val_loss += loss.item()\n",
    "\n",
    "            valid_loader_tqdm.set_postfix({\"Val Loss\": val_loss / len(valid_loader)})\n",
    "\n",
    "    epoch_val_loss = val_loss / len(valid_loader)\n",
    "    epochs_used += 1\n",
    "\n",
    "    val_losses.append(epoch_val_loss)\n",
    "    print(f\"Validation Loss: {epoch_val_loss}\")\n",
    "\n",
    "    early_stopping(\n",
    "        epoch_val_loss, \n",
    "        model, \n",
    "        path=os.path.join(\"checkpoints\", f\"checkpoint_3_bigger_basic_ciou_run_{RUN_NUMBER}.pt\")\n",
    "    )\n",
    "\n",
    "    if early_stopping.early_stop:\n",
    "        print(\"Early stopping\")\n",
    "        break\n",
    "\n",
    "print(\"Training complete\")"
   ],
   "outputs": [],
   "execution_count": null
  },
  {
   "cell_type": "code",
   "execution_count": 5,
   "id": "4546c5dcfed2337d",
   "metadata": {
    "ExecuteTime": {
     "end_time": "2024-06-27T07:00:27.382202Z",
     "start_time": "2024-06-27T07:00:27.182232Z"
    },
    "execution": {
     "iopub.execute_input": "2024-07-06T03:39:20.081161Z",
     "iopub.status.busy": "2024-07-06T03:39:20.080159Z",
     "iopub.status.idle": "2024-07-06T03:39:20.284184Z",
     "shell.execute_reply": "2024-07-06T03:39:20.284184Z"
    }
   },
   "outputs": [
    {
     "name": "stderr",
     "output_type": "stream",
     "text": [
      "C:\\Users\\mmale\\.conda\\envs\\bounding_box_detection_ham10000_torch\\Lib\\site-packages\\seaborn\\_oldcore.py:1498: FutureWarning: is_categorical_dtype is deprecated and will be removed in a future version. Use isinstance(dtype, CategoricalDtype) instead\n",
      "  if pd.api.types.is_categorical_dtype(vector):\n",
      "C:\\Users\\mmale\\.conda\\envs\\bounding_box_detection_ham10000_torch\\Lib\\site-packages\\seaborn\\_oldcore.py:1498: FutureWarning: is_categorical_dtype is deprecated and will be removed in a future version. Use isinstance(dtype, CategoricalDtype) instead\n",
      "  if pd.api.types.is_categorical_dtype(vector):\n",
      "C:\\Users\\mmale\\.conda\\envs\\bounding_box_detection_ham10000_torch\\Lib\\site-packages\\seaborn\\_oldcore.py:1119: FutureWarning: use_inf_as_na option is deprecated and will be removed in a future version. Convert inf values to NaN before operating instead.\n",
      "  with pd.option_context('mode.use_inf_as_na', True):\n",
      "C:\\Users\\mmale\\.conda\\envs\\bounding_box_detection_ham10000_torch\\Lib\\site-packages\\seaborn\\_oldcore.py:1119: FutureWarning: use_inf_as_na option is deprecated and will be removed in a future version. Convert inf values to NaN before operating instead.\n",
      "  with pd.option_context('mode.use_inf_as_na', True):\n",
      "C:\\Users\\mmale\\.conda\\envs\\bounding_box_detection_ham10000_torch\\Lib\\site-packages\\seaborn\\_oldcore.py:1498: FutureWarning: is_categorical_dtype is deprecated and will be removed in a future version. Use isinstance(dtype, CategoricalDtype) instead\n",
      "  if pd.api.types.is_categorical_dtype(vector):\n",
      "C:\\Users\\mmale\\.conda\\envs\\bounding_box_detection_ham10000_torch\\Lib\\site-packages\\seaborn\\_oldcore.py:1498: FutureWarning: is_categorical_dtype is deprecated and will be removed in a future version. Use isinstance(dtype, CategoricalDtype) instead\n",
      "  if pd.api.types.is_categorical_dtype(vector):\n",
      "C:\\Users\\mmale\\.conda\\envs\\bounding_box_detection_ham10000_torch\\Lib\\site-packages\\seaborn\\_oldcore.py:1119: FutureWarning: use_inf_as_na option is deprecated and will be removed in a future version. Convert inf values to NaN before operating instead.\n",
      "  with pd.option_context('mode.use_inf_as_na', True):\n",
      "C:\\Users\\mmale\\.conda\\envs\\bounding_box_detection_ham10000_torch\\Lib\\site-packages\\seaborn\\_oldcore.py:1119: FutureWarning: use_inf_as_na option is deprecated and will be removed in a future version. Convert inf values to NaN before operating instead.\n",
      "  with pd.option_context('mode.use_inf_as_na', True):\n"
     ]
    },
    {
     "data": {
      "image/png": "[encoded data removed]",
      "text/plain": [
       "<Figure size 1000x500 with 1 Axes>"
      ]
     },
     "metadata": {},
     "output_type": "display_data"
    }
   ],
   "source": [
    "plot_losses(epochs_used, train_losses, val_losses)"
   ]
  },
  {
   "cell_type": "code",
   "execution_count": null,
   "id": "5822d715eeca4878",
   "metadata": {},
   "outputs": [],
   "source": []
  }
 ],
 "metadata": {
  "kernelspec": {
   "display_name": "Python [conda env:.conda-bounding_box_detection_ham10000_torch] *",
   "language": "python",
   "name": "conda-env-.conda-bounding_box_detection_ham10000_torch-py"
  },
  "language_info": {
   "codemirror_mode": {
    "name": "ipython",
    "version": 3
   },
   "file_extension": ".py",
   "mimetype": "text/x-python",
   "name": "python",
   "nbconvert_exporter": "python",
   "pygments_lexer": "ipython3",
   "version": "3.11.9"
  }
 },
 "nbformat": 4,
 "nbformat_minor": 5
}

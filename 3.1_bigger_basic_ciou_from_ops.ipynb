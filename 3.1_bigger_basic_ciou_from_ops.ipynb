{
 "cells": [
  {
   "cell_type": "code",
   "id": "initial_id",
   "metadata": {
    "collapsed": true,
    "execution": {
     "iopub.execute_input": "2024-07-06T03:28:42.503936Z",
     "iopub.status.busy": "2024-07-06T03:28:42.503936Z",
     "iopub.status.idle": "2024-07-06T03:28:46.460981Z",
     "shell.execute_reply": "2024-07-06T03:28:46.460981Z"
    },
    "ExecuteTime": {
     "end_time": "2024-07-27T06:23:57.778505Z",
     "start_time": "2024-07-27T06:23:46.216534Z"
    }
   },
   "source": [
    "import os\n",
    "import torch\n",
    "import torch.optim as optim\n",
    "\n",
    "from torchvision.ops import complete_box_iou_loss\n",
    "from tqdm import tqdm\n",
    "\n",
    "from architectures.bigger_basic import BoundingBoxModel\n",
    "from functions.datasets import get_loaders\n",
    "from functions.loop_management import EarlyStopping\n",
    "from functions.mapping import extract_bboxes\n",
    "from functions.plotting import plot_losses\n",
    "\n",
    "print(torch.__version__)\n",
    "print(torch.cuda.is_available())"
   ],
   "outputs": [
    {
     "name": "stdout",
     "output_type": "stream",
     "text": [
      "2.3.1\n",
      "True\n"
     ]
    }
   ],
   "execution_count": 1
  },
  {
   "cell_type": "code",
   "id": "8f15d136e78af2cd",
   "metadata": {
    "execution": {
     "iopub.execute_input": "2024-07-06T03:28:46.464987Z",
     "iopub.status.busy": "2024-07-06T03:28:46.463986Z",
     "iopub.status.idle": "2024-07-06T03:28:46.601843Z",
     "shell.execute_reply": "2024-07-06T03:28:46.601010Z"
    },
    "ExecuteTime": {
     "end_time": "2024-07-27T06:24:51.608441Z",
     "start_time": "2024-07-27T06:24:51.501759Z"
    }
   },
   "source": [
    "RUN_NUMBER = 0\n",
    "dataset, train_loader, valid_loader = get_loaders(\n",
    "    os.path.join(\"data\", \"train_images\"),\n",
    "    os.path.join(\"data\", \"train_coco_annotations.json\"),\n",
    "    prefetch_factor=16\n",
    ")\n",
    "device = torch.device(\"cuda\" if torch.cuda.is_available() else \"cpu\")\n",
    "\n",
    "print(device)"
   ],
   "outputs": [
    {
     "name": "stdout",
     "output_type": "stream",
     "text": [
      "loading annotations into memory...\n",
      "Done (t=0.08s)\n",
      "creating index...\n",
      "index created!\n",
      "cuda\n"
     ]
    }
   ],
   "execution_count": 3
  },
  {
   "cell_type": "code",
   "id": "ab9bee4d58e26681",
   "metadata": {
    "execution": {
     "iopub.execute_input": "2024-07-06T03:28:46.604357Z",
     "iopub.status.busy": "2024-07-06T03:28:46.604357Z",
     "iopub.status.idle": "2024-07-06T03:28:48.661402Z",
     "shell.execute_reply": "2024-07-06T03:28:48.661402Z"
    },
    "ExecuteTime": {
     "end_time": "2024-07-27T06:25:00.236516Z",
     "start_time": "2024-07-27T06:24:57.251611Z"
    }
   },
   "source": [
    "model = BoundingBoxModel().to(device)\n",
    "optimizer = optim.Adam(model.parameters(), lr=0.001)"
   ],
   "outputs": [],
   "execution_count": 4
  },
  {
   "cell_type": "code",
   "id": "443f8245a4f5ed2d",
   "metadata": {
    "execution": {
     "iopub.execute_input": "2024-07-06T03:28:48.665408Z",
     "iopub.status.busy": "2024-07-06T03:28:48.665408Z",
     "iopub.status.idle": "2024-07-06T03:39:20.077155Z",
     "shell.execute_reply": "2024-07-06T03:39:20.077155Z"
    },
    "ExecuteTime": {
     "end_time": "2024-07-27T06:41:51.315997Z",
     "start_time": "2024-07-27T06:30:06.573121Z"
    }
   },
   "source": [
    "early_stopping = EarlyStopping(patience=7, verbose=True)\n",
    "num_epochs = 25\n",
    "epochs_used = 0\n",
    "train_losses = []\n",
    "val_losses = []\n",
    "\n",
    "for epoch in range(num_epochs):\n",
    "    model.train()\n",
    "    running_loss = 0.0\n",
    "\n",
    "    train_loader_tqdm = tqdm(train_loader, desc=f\"Epoch {epoch + 1}/{num_epochs} - Training\")\n",
    "\n",
    "    for images, targets in train_loader_tqdm:\n",
    "        images = images.to(device)\n",
    "        bboxes = extract_bboxes(targets)\n",
    "        bboxes = torch.stack(bboxes).to(device)\n",
    "\n",
    "        optimizer.zero_grad(set_to_none=True)\n",
    "\n",
    "        outputs = model(images)\n",
    "        ciou_loss = complete_box_iou_loss(outputs, bboxes)\n",
    "        loss = ciou_loss.mean()\n",
    "\n",
    "        loss.backward()\n",
    "        optimizer.step()\n",
    "\n",
    "        running_loss += loss.item()\n",
    "\n",
    "        train_loader_tqdm.set_postfix({\"Train Loss\": running_loss / len(train_loader)})\n",
    "\n",
    "    epoch_train_loss = running_loss / len(train_loader)\n",
    "\n",
    "    train_losses.append(epoch_train_loss)\n",
    "    print(f\"Epoch {epoch + 1}, Loss: {epoch_train_loss}\")\n",
    "    model.eval()\n",
    "\n",
    "    val_loss = 0.0\n",
    "    valid_loader_tqdm = tqdm(valid_loader, desc=f\"Epoch {epoch + 1}/{num_epochs} - Validation\")\n",
    "\n",
    "    with torch.no_grad():\n",
    "        for images, targets in valid_loader_tqdm:\n",
    "            images = images.to(device)\n",
    "            bboxes = extract_bboxes(targets)\n",
    "            bboxes = torch.stack(bboxes).to(device)\n",
    "            outputs = model(images)\n",
    "            ciou_loss = complete_box_iou_loss(outputs, bboxes)\n",
    "            loss = ciou_loss.mean()\n",
    "            val_loss += loss.item()\n",
    "\n",
    "            valid_loader_tqdm.set_postfix({\"Val Loss\": val_loss / len(valid_loader)})\n",
    "\n",
    "    epoch_val_loss = val_loss / len(valid_loader)\n",
    "    epochs_used += 1\n",
    "\n",
    "    val_losses.append(epoch_val_loss)\n",
    "    print(f\"Validation Loss: {epoch_val_loss}\")\n",
    "\n",
    "    early_stopping(\n",
    "        epoch_val_loss, \n",
    "        model, \n",
    "        path=os.path.join(\"checkpoints\", f\"checkpoint_3_1_bigger_basic_ciou_run_{RUN_NUMBER}.pt\")\n",
    "    )\n",
    "\n",
    "    if early_stopping.early_stop:\n",
    "        print(\"Early stopping\")\n",
    "        break\n",
    "\n",
    "print(\"Training complete\")"
   ],
   "outputs": [
    {
     "name": "stderr",
     "output_type": "stream",
     "text": [
      "Epoch 1/25 - Training: 100%|██████████| 227/227 [00:16<00:00, 14.13it/s, Train Loss=0.579]\n"
     ]
    },
    {
     "name": "stdout",
     "output_type": "stream",
     "text": [
      "Epoch 1, Loss: 0.5790968710630475\n"
     ]
    },
    {
     "name": "stderr",
     "output_type": "stream",
     "text": [
      "Epoch 1/25 - Validation: 100%|██████████| 227/227 [00:12<00:00, 18.04it/s, Val Loss=0.409]\n"
     ]
    },
    {
     "name": "stdout",
     "output_type": "stream",
     "text": [
      "Validation Loss: 0.40890623359953254\n",
      "Validation loss decreased (inf --> 0.408906).  Saving model ...\n"
     ]
    },
    {
     "name": "stderr",
     "output_type": "stream",
     "text": [
      "Epoch 2/25 - Training: 100%|██████████| 227/227 [00:15<00:00, 14.84it/s, Train Loss=0.369]\n"
     ]
    },
    {
     "name": "stdout",
     "output_type": "stream",
     "text": [
      "Epoch 2, Loss: 0.3692164062665948\n"
     ]
    },
    {
     "name": "stderr",
     "output_type": "stream",
     "text": [
      "Epoch 2/25 - Validation: 100%|██████████| 227/227 [00:12<00:00, 17.84it/s, Val Loss=0.35] \n"
     ]
    },
    {
     "name": "stdout",
     "output_type": "stream",
     "text": [
      "Validation Loss: 0.3502388639859691\n",
      "Validation loss decreased (0.408906 --> 0.350239).  Saving model ...\n"
     ]
    },
    {
     "name": "stderr",
     "output_type": "stream",
     "text": [
      "Epoch 3/25 - Training: 100%|██████████| 227/227 [00:15<00:00, 14.80it/s, Train Loss=0.323]\n"
     ]
    },
    {
     "name": "stdout",
     "output_type": "stream",
     "text": [
      "Epoch 3, Loss: 0.3228287275404657\n"
     ]
    },
    {
     "name": "stderr",
     "output_type": "stream",
     "text": [
      "Epoch 3/25 - Validation: 100%|██████████| 227/227 [00:12<00:00, 17.96it/s, Val Loss=0.312]\n"
     ]
    },
    {
     "name": "stdout",
     "output_type": "stream",
     "text": [
      "Validation Loss: 0.3122855601463024\n",
      "Validation loss decreased (0.350239 --> 0.312286).  Saving model ...\n"
     ]
    },
    {
     "name": "stderr",
     "output_type": "stream",
     "text": [
      "Epoch 4/25 - Training: 100%|██████████| 227/227 [00:15<00:00, 14.40it/s, Train Loss=0.303]\n"
     ]
    },
    {
     "name": "stdout",
     "output_type": "stream",
     "text": [
      "Epoch 4, Loss: 0.30265395106985704\n"
     ]
    },
    {
     "name": "stderr",
     "output_type": "stream",
     "text": [
      "Epoch 4/25 - Validation: 100%|██████████| 227/227 [00:12<00:00, 18.06it/s, Val Loss=0.342]\n"
     ]
    },
    {
     "name": "stdout",
     "output_type": "stream",
     "text": [
      "Validation Loss: 0.34218618194962386\n",
      "EarlyStopping counter: 1 out of 7\n"
     ]
    },
    {
     "name": "stderr",
     "output_type": "stream",
     "text": [
      "Epoch 5/25 - Training: 100%|██████████| 227/227 [00:15<00:00, 14.53it/s, Train Loss=0.293]\n"
     ]
    },
    {
     "name": "stdout",
     "output_type": "stream",
     "text": [
      "Epoch 5, Loss: 0.2926489856537218\n"
     ]
    },
    {
     "name": "stderr",
     "output_type": "stream",
     "text": [
      "Epoch 5/25 - Validation: 100%|██████████| 227/227 [00:13<00:00, 17.35it/s, Val Loss=0.339]\n"
     ]
    },
    {
     "name": "stdout",
     "output_type": "stream",
     "text": [
      "Validation Loss: 0.3389869677600356\n",
      "EarlyStopping counter: 2 out of 7\n"
     ]
    },
    {
     "name": "stderr",
     "output_type": "stream",
     "text": [
      "Epoch 6/25 - Training: 100%|██████████| 227/227 [00:15<00:00, 14.73it/s, Train Loss=0.291]\n"
     ]
    },
    {
     "name": "stdout",
     "output_type": "stream",
     "text": [
      "Epoch 6, Loss: 0.2906750211500386\n"
     ]
    },
    {
     "name": "stderr",
     "output_type": "stream",
     "text": [
      "Epoch 6/25 - Validation: 100%|██████████| 227/227 [00:12<00:00, 18.11it/s, Val Loss=0.313]\n"
     ]
    },
    {
     "name": "stdout",
     "output_type": "stream",
     "text": [
      "Validation Loss: 0.3128459891427456\n",
      "EarlyStopping counter: 3 out of 7\n"
     ]
    },
    {
     "name": "stderr",
     "output_type": "stream",
     "text": [
      "Epoch 7/25 - Training: 100%|██████████| 227/227 [00:15<00:00, 14.82it/s, Train Loss=0.281]\n"
     ]
    },
    {
     "name": "stdout",
     "output_type": "stream",
     "text": [
      "Epoch 7, Loss: 0.28066582623294795\n"
     ]
    },
    {
     "name": "stderr",
     "output_type": "stream",
     "text": [
      "Epoch 7/25 - Validation: 100%|██████████| 227/227 [00:14<00:00, 15.61it/s, Val Loss=0.264]\n"
     ]
    },
    {
     "name": "stdout",
     "output_type": "stream",
     "text": [
      "Validation Loss: 0.2638974389972141\n",
      "Validation loss decreased (0.312286 --> 0.263897).  Saving model ...\n"
     ]
    },
    {
     "name": "stderr",
     "output_type": "stream",
     "text": [
      "Epoch 8/25 - Training: 100%|██████████| 227/227 [00:15<00:00, 14.60it/s, Train Loss=0.278]\n"
     ]
    },
    {
     "name": "stdout",
     "output_type": "stream",
     "text": [
      "Epoch 8, Loss: 0.27754078030848817\n"
     ]
    },
    {
     "name": "stderr",
     "output_type": "stream",
     "text": [
      "Epoch 8/25 - Validation: 100%|██████████| 227/227 [00:12<00:00, 17.97it/s, Val Loss=0.272]\n"
     ]
    },
    {
     "name": "stdout",
     "output_type": "stream",
     "text": [
      "Validation Loss: 0.2719965592880081\n",
      "EarlyStopping counter: 1 out of 7\n"
     ]
    },
    {
     "name": "stderr",
     "output_type": "stream",
     "text": [
      "Epoch 9/25 - Training: 100%|██████████| 227/227 [00:15<00:00, 14.74it/s, Train Loss=0.272]\n"
     ]
    },
    {
     "name": "stdout",
     "output_type": "stream",
     "text": [
      "Epoch 9, Loss: 0.27195901538569495\n"
     ]
    },
    {
     "name": "stderr",
     "output_type": "stream",
     "text": [
      "Epoch 9/25 - Validation: 100%|██████████| 227/227 [00:12<00:00, 17.99it/s, Val Loss=0.251]\n"
     ]
    },
    {
     "name": "stdout",
     "output_type": "stream",
     "text": [
      "Validation Loss: 0.25118519543025986\n",
      "Validation loss decreased (0.263897 --> 0.251185).  Saving model ...\n"
     ]
    },
    {
     "name": "stderr",
     "output_type": "stream",
     "text": [
      "Epoch 10/25 - Training: 100%|██████████| 227/227 [00:15<00:00, 14.52it/s, Train Loss=0.263]\n"
     ]
    },
    {
     "name": "stdout",
     "output_type": "stream",
     "text": [
      "Epoch 10, Loss: 0.2627522371020086\n"
     ]
    },
    {
     "name": "stderr",
     "output_type": "stream",
     "text": [
      "Epoch 10/25 - Validation: 100%|██████████| 227/227 [00:12<00:00, 17.93it/s, Val Loss=0.29] \n"
     ]
    },
    {
     "name": "stdout",
     "output_type": "stream",
     "text": [
      "Validation Loss: 0.2902538232209924\n",
      "EarlyStopping counter: 1 out of 7\n"
     ]
    },
    {
     "name": "stderr",
     "output_type": "stream",
     "text": [
      "Epoch 11/25 - Training: 100%|██████████| 227/227 [00:15<00:00, 14.92it/s, Train Loss=0.258]\n"
     ]
    },
    {
     "name": "stdout",
     "output_type": "stream",
     "text": [
      "Epoch 11, Loss: 0.2575500131572396\n"
     ]
    },
    {
     "name": "stderr",
     "output_type": "stream",
     "text": [
      "Epoch 11/25 - Validation: 100%|██████████| 227/227 [00:12<00:00, 17.89it/s, Val Loss=0.249]\n"
     ]
    },
    {
     "name": "stdout",
     "output_type": "stream",
     "text": [
      "Validation Loss: 0.2487067578910206\n",
      "Validation loss decreased (0.251185 --> 0.248707).  Saving model ...\n"
     ]
    },
    {
     "name": "stderr",
     "output_type": "stream",
     "text": [
      "Epoch 12/25 - Training: 100%|██████████| 227/227 [00:15<00:00, 14.59it/s, Train Loss=0.26] \n"
     ]
    },
    {
     "name": "stdout",
     "output_type": "stream",
     "text": [
      "Epoch 12, Loss: 0.2602517080333264\n"
     ]
    },
    {
     "name": "stderr",
     "output_type": "stream",
     "text": [
      "Epoch 12/25 - Validation: 100%|██████████| 227/227 [00:12<00:00, 17.97it/s, Val Loss=0.366]\n"
     ]
    },
    {
     "name": "stdout",
     "output_type": "stream",
     "text": [
      "Validation Loss: 0.36600606123781415\n",
      "EarlyStopping counter: 1 out of 7\n"
     ]
    },
    {
     "name": "stderr",
     "output_type": "stream",
     "text": [
      "Epoch 13/25 - Training: 100%|██████████| 227/227 [00:15<00:00, 14.74it/s, Train Loss=0.26] \n"
     ]
    },
    {
     "name": "stdout",
     "output_type": "stream",
     "text": [
      "Epoch 13, Loss: 0.25957272434812284\n"
     ]
    },
    {
     "name": "stderr",
     "output_type": "stream",
     "text": [
      "Epoch 13/25 - Validation: 100%|██████████| 227/227 [00:12<00:00, 18.33it/s, Val Loss=0.246]\n"
     ]
    },
    {
     "name": "stdout",
     "output_type": "stream",
     "text": [
      "Validation Loss: 0.24632152993773573\n",
      "Validation loss decreased (0.248707 --> 0.246322).  Saving model ...\n"
     ]
    },
    {
     "name": "stderr",
     "output_type": "stream",
     "text": [
      "Epoch 14/25 - Training: 100%|██████████| 227/227 [00:15<00:00, 14.74it/s, Train Loss=0.252]\n"
     ]
    },
    {
     "name": "stdout",
     "output_type": "stream",
     "text": [
      "Epoch 14, Loss: 0.25219597230923857\n"
     ]
    },
    {
     "name": "stderr",
     "output_type": "stream",
     "text": [
      "Epoch 14/25 - Validation: 100%|██████████| 227/227 [00:12<00:00, 17.87it/s, Val Loss=0.233]\n"
     ]
    },
    {
     "name": "stdout",
     "output_type": "stream",
     "text": [
      "Validation Loss: 0.23330689264289084\n",
      "Validation loss decreased (0.246322 --> 0.233307).  Saving model ...\n"
     ]
    },
    {
     "name": "stderr",
     "output_type": "stream",
     "text": [
      "Epoch 15/25 - Training: 100%|██████████| 227/227 [00:15<00:00, 14.57it/s, Train Loss=0.245]\n"
     ]
    },
    {
     "name": "stdout",
     "output_type": "stream",
     "text": [
      "Epoch 15, Loss: 0.24491123710697443\n"
     ]
    },
    {
     "name": "stderr",
     "output_type": "stream",
     "text": [
      "Epoch 15/25 - Validation: 100%|██████████| 227/227 [00:12<00:00, 17.87it/s, Val Loss=0.286]\n"
     ]
    },
    {
     "name": "stdout",
     "output_type": "stream",
     "text": [
      "Validation Loss: 0.2860315883212153\n",
      "EarlyStopping counter: 1 out of 7\n"
     ]
    },
    {
     "name": "stderr",
     "output_type": "stream",
     "text": [
      "Epoch 16/25 - Training: 100%|██████████| 227/227 [00:15<00:00, 14.63it/s, Train Loss=0.248]\n"
     ]
    },
    {
     "name": "stdout",
     "output_type": "stream",
     "text": [
      "Epoch 16, Loss: 0.247971650853031\n"
     ]
    },
    {
     "name": "stderr",
     "output_type": "stream",
     "text": [
      "Epoch 16/25 - Validation: 100%|██████████| 227/227 [00:12<00:00, 17.90it/s, Val Loss=0.238]\n"
     ]
    },
    {
     "name": "stdout",
     "output_type": "stream",
     "text": [
      "Validation Loss: 0.23755478878640918\n",
      "EarlyStopping counter: 2 out of 7\n"
     ]
    },
    {
     "name": "stderr",
     "output_type": "stream",
     "text": [
      "Epoch 17/25 - Training: 100%|██████████| 227/227 [00:15<00:00, 14.65it/s, Train Loss=0.238]\n"
     ]
    },
    {
     "name": "stdout",
     "output_type": "stream",
     "text": [
      "Epoch 17, Loss: 0.23768064924536297\n"
     ]
    },
    {
     "name": "stderr",
     "output_type": "stream",
     "text": [
      "Epoch 17/25 - Validation: 100%|██████████| 227/227 [00:12<00:00, 18.40it/s, Val Loss=0.247]\n"
     ]
    },
    {
     "name": "stdout",
     "output_type": "stream",
     "text": [
      "Validation Loss: 0.24724724206105203\n",
      "EarlyStopping counter: 3 out of 7\n"
     ]
    },
    {
     "name": "stderr",
     "output_type": "stream",
     "text": [
      "Epoch 18/25 - Training: 100%|██████████| 227/227 [00:15<00:00, 14.74it/s, Train Loss=0.235] \n"
     ]
    },
    {
     "name": "stdout",
     "output_type": "stream",
     "text": [
      "Epoch 18, Loss: 0.23463164565321631\n"
     ]
    },
    {
     "name": "stderr",
     "output_type": "stream",
     "text": [
      "Epoch 18/25 - Validation: 100%|██████████| 227/227 [00:12<00:00, 17.81it/s, Val Loss=0.226]\n"
     ]
    },
    {
     "name": "stdout",
     "output_type": "stream",
     "text": [
      "Validation Loss: 0.22572542490675587\n",
      "Validation loss decreased (0.233307 --> 0.225725).  Saving model ...\n"
     ]
    },
    {
     "name": "stderr",
     "output_type": "stream",
     "text": [
      "Epoch 19/25 - Training: 100%|██████████| 227/227 [00:15<00:00, 14.50it/s, Train Loss=0.23]  \n"
     ]
    },
    {
     "name": "stdout",
     "output_type": "stream",
     "text": [
      "Epoch 19, Loss: 0.2297749279091537\n"
     ]
    },
    {
     "name": "stderr",
     "output_type": "stream",
     "text": [
      "Epoch 19/25 - Validation: 100%|██████████| 227/227 [00:12<00:00, 17.88it/s, Val Loss=0.248]\n"
     ]
    },
    {
     "name": "stdout",
     "output_type": "stream",
     "text": [
      "Validation Loss: 0.2482671121931286\n",
      "EarlyStopping counter: 1 out of 7\n"
     ]
    },
    {
     "name": "stderr",
     "output_type": "stream",
     "text": [
      "Epoch 20/25 - Training: 100%|██████████| 227/227 [00:15<00:00, 14.47it/s, Train Loss=0.236]\n"
     ]
    },
    {
     "name": "stdout",
     "output_type": "stream",
     "text": [
      "Epoch 20, Loss: 0.23625882902071865\n"
     ]
    },
    {
     "name": "stderr",
     "output_type": "stream",
     "text": [
      "Epoch 20/25 - Validation: 100%|██████████| 227/227 [00:12<00:00, 18.28it/s, Val Loss=0.248]\n"
     ]
    },
    {
     "name": "stdout",
     "output_type": "stream",
     "text": [
      "Validation Loss: 0.24815002077213993\n",
      "EarlyStopping counter: 2 out of 7\n"
     ]
    },
    {
     "name": "stderr",
     "output_type": "stream",
     "text": [
      "Epoch 21/25 - Training: 100%|██████████| 227/227 [00:15<00:00, 14.92it/s, Train Loss=0.225]\n"
     ]
    },
    {
     "name": "stdout",
     "output_type": "stream",
     "text": [
      "Epoch 21, Loss: 0.2246379539830044\n"
     ]
    },
    {
     "name": "stderr",
     "output_type": "stream",
     "text": [
      "Epoch 21/25 - Validation: 100%|██████████| 227/227 [00:12<00:00, 18.42it/s, Val Loss=0.233]\n"
     ]
    },
    {
     "name": "stdout",
     "output_type": "stream",
     "text": [
      "Validation Loss: 0.23256555088028508\n",
      "EarlyStopping counter: 3 out of 7\n"
     ]
    },
    {
     "name": "stderr",
     "output_type": "stream",
     "text": [
      "Epoch 22/25 - Training: 100%|██████████| 227/227 [00:15<00:00, 14.90it/s, Train Loss=0.224] \n"
     ]
    },
    {
     "name": "stdout",
     "output_type": "stream",
     "text": [
      "Epoch 22, Loss: 0.22387022869702478\n"
     ]
    },
    {
     "name": "stderr",
     "output_type": "stream",
     "text": [
      "Epoch 22/25 - Validation: 100%|██████████| 227/227 [00:12<00:00, 17.83it/s, Val Loss=0.224] \n"
     ]
    },
    {
     "name": "stdout",
     "output_type": "stream",
     "text": [
      "Validation Loss: 0.22381286460922678\n",
      "Validation loss decreased (0.225725 --> 0.223813).  Saving model ...\n"
     ]
    },
    {
     "name": "stderr",
     "output_type": "stream",
     "text": [
      "Epoch 23/25 - Training: 100%|██████████| 227/227 [00:15<00:00, 14.40it/s, Train Loss=0.219] \n"
     ]
    },
    {
     "name": "stdout",
     "output_type": "stream",
     "text": [
      "Epoch 23, Loss: 0.21852981309008493\n"
     ]
    },
    {
     "name": "stderr",
     "output_type": "stream",
     "text": [
      "Epoch 23/25 - Validation: 100%|██████████| 227/227 [00:12<00:00, 18.31it/s, Val Loss=0.228]\n"
     ]
    },
    {
     "name": "stdout",
     "output_type": "stream",
     "text": [
      "Validation Loss: 0.22756103265390523\n",
      "EarlyStopping counter: 1 out of 7\n"
     ]
    },
    {
     "name": "stderr",
     "output_type": "stream",
     "text": [
      "Epoch 24/25 - Training: 100%|██████████| 227/227 [00:15<00:00, 14.92it/s, Train Loss=0.218] \n"
     ]
    },
    {
     "name": "stdout",
     "output_type": "stream",
     "text": [
      "Epoch 24, Loss: 0.21841376258413173\n"
     ]
    },
    {
     "name": "stderr",
     "output_type": "stream",
     "text": [
      "Epoch 24/25 - Validation: 100%|██████████| 227/227 [00:12<00:00, 18.44it/s, Val Loss=0.225]\n"
     ]
    },
    {
     "name": "stdout",
     "output_type": "stream",
     "text": [
      "Validation Loss: 0.22541814025015558\n",
      "EarlyStopping counter: 2 out of 7\n"
     ]
    },
    {
     "name": "stderr",
     "output_type": "stream",
     "text": [
      "Epoch 25/25 - Training: 100%|██████████| 227/227 [00:15<00:00, 15.10it/s, Train Loss=0.217] \n"
     ]
    },
    {
     "name": "stdout",
     "output_type": "stream",
     "text": [
      "Epoch 25, Loss: 0.2170490969776582\n"
     ]
    },
    {
     "name": "stderr",
     "output_type": "stream",
     "text": [
      "Epoch 25/25 - Validation: 100%|██████████| 227/227 [00:13<00:00, 17.44it/s, Val Loss=0.218] "
     ]
    },
    {
     "name": "stdout",
     "output_type": "stream",
     "text": [
      "Validation Loss: 0.21773966319760563\n",
      "Validation loss decreased (0.223813 --> 0.217740).  Saving model ...\n",
      "Training complete\n"
     ]
    },
    {
     "name": "stderr",
     "output_type": "stream",
     "text": [
      "\n"
     ]
    }
   ],
   "execution_count": 7
  },
  {
   "cell_type": "code",
   "id": "4546c5dcfed2337d",
   "metadata": {
    "execution": {
     "iopub.execute_input": "2024-07-06T03:39:20.081161Z",
     "iopub.status.busy": "2024-07-06T03:39:20.080159Z",
     "iopub.status.idle": "2024-07-06T03:39:20.284184Z",
     "shell.execute_reply": "2024-07-06T03:39:20.284184Z"
    },
    "ExecuteTime": {
     "end_time": "2024-07-27T06:41:57.163803Z",
     "start_time": "2024-07-27T06:41:56.921551Z"
    }
   },
   "source": [
    "plot_losses(epochs_used, train_losses, val_losses)"
   ],
   "outputs": [
    {
     "name": "stderr",
     "output_type": "stream",
     "text": [
      "C:\\Users\\mmale\\.conda\\envs\\bounding_box_detection_ham10000_torch\\Lib\\site-packages\\seaborn\\_oldcore.py:1498: FutureWarning: is_categorical_dtype is deprecated and will be removed in a future version. Use isinstance(dtype, CategoricalDtype) instead\n",
      "  if pd.api.types.is_categorical_dtype(vector):\n",
      "C:\\Users\\mmale\\.conda\\envs\\bounding_box_detection_ham10000_torch\\Lib\\site-packages\\seaborn\\_oldcore.py:1498: FutureWarning: is_categorical_dtype is deprecated and will be removed in a future version. Use isinstance(dtype, CategoricalDtype) instead\n",
      "  if pd.api.types.is_categorical_dtype(vector):\n",
      "C:\\Users\\mmale\\.conda\\envs\\bounding_box_detection_ham10000_torch\\Lib\\site-packages\\seaborn\\_oldcore.py:1119: FutureWarning: use_inf_as_na option is deprecated and will be removed in a future version. Convert inf values to NaN before operating instead.\n",
      "  with pd.option_context('mode.use_inf_as_na', True):\n",
      "C:\\Users\\mmale\\.conda\\envs\\bounding_box_detection_ham10000_torch\\Lib\\site-packages\\seaborn\\_oldcore.py:1119: FutureWarning: use_inf_as_na option is deprecated and will be removed in a future version. Convert inf values to NaN before operating instead.\n",
      "  with pd.option_context('mode.use_inf_as_na', True):\n",
      "C:\\Users\\mmale\\.conda\\envs\\bounding_box_detection_ham10000_torch\\Lib\\site-packages\\seaborn\\_oldcore.py:1498: FutureWarning: is_categorical_dtype is deprecated and will be removed in a future version. Use isinstance(dtype, CategoricalDtype) instead\n",
      "  if pd.api.types.is_categorical_dtype(vector):\n",
      "C:\\Users\\mmale\\.conda\\envs\\bounding_box_detection_ham10000_torch\\Lib\\site-packages\\seaborn\\_oldcore.py:1498: FutureWarning: is_categorical_dtype is deprecated and will be removed in a future version. Use isinstance(dtype, CategoricalDtype) instead\n",
      "  if pd.api.types.is_categorical_dtype(vector):\n",
      "C:\\Users\\mmale\\.conda\\envs\\bounding_box_detection_ham10000_torch\\Lib\\site-packages\\seaborn\\_oldcore.py:1119: FutureWarning: use_inf_as_na option is deprecated and will be removed in a future version. Convert inf values to NaN before operating instead.\n",
      "  with pd.option_context('mode.use_inf_as_na', True):\n",
      "C:\\Users\\mmale\\.conda\\envs\\bounding_box_detection_ham10000_torch\\Lib\\site-packages\\seaborn\\_oldcore.py:1119: FutureWarning: use_inf_as_na option is deprecated and will be removed in a future version. Convert inf values to NaN before operating instead.\n",
      "  with pd.option_context('mode.use_inf_as_na', True):\n"
     ]
    },
    {
     "data": {
      "text/plain": [
       "<Figure size 1000x500 with 1 Axes>"
      ],
      "image/png": "[encoded data removed]"
     },
     "metadata": {},
     "output_type": "display_data"
    }
   ],
   "execution_count": 8
  },
  {
   "cell_type": "code",
   "execution_count": null,
   "id": "5822d715eeca4878",
   "metadata": {},
   "outputs": [],
   "source": []
  }
 ],
 "metadata": {
  "kernelspec": {
   "display_name": "Python [conda env:.conda-bounding_box_detection_ham10000_torch] *",
   "language": "python",
   "name": "conda-env-.conda-bounding_box_detection_ham10000_torch-py"
  },
  "language_info": {
   "codemirror_mode": {
    "name": "ipython",
    "version": 3
   },
   "file_extension": ".py",
   "mimetype": "text/x-python",
   "name": "python",
   "nbconvert_exporter": "python",
   "pygments_lexer": "ipython3",
   "version": "3.11.9"
  }
 },
 "nbformat": 4,
 "nbformat_minor": 5
}

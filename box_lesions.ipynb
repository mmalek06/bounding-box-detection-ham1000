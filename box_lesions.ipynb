{
 "cells": [
  {
   "cell_type": "markdown",
   "metadata": {
    "collapsed": false,
    "jupyter": {
     "outputs_hidden": false
    }
   },
   "source": [
    "<h3>This notebook contains code used to create bounding boxes around lesions. Coords will be added to the metadata file.</h3>"
   ]
  },
  {
   "cell_type": "code",
   "metadata": {
    "ExecuteTime": {
     "end_time": "2024-06-22T16:11:23.406782Z",
     "start_time": "2024-06-22T16:11:23.403139Z"
    }
   },
   "source": [
    "import os\n",
    "\n",
    "import pandas as pd\n",
    "import numpy as np\n",
    "import PIL.Image\n",
    "\n",
    "from functions.drawing import draw_rectangle"
   ],
   "outputs": [],
   "execution_count": 8
  },
  {
   "cell_type": "code",
   "metadata": {
    "collapsed": false,
    "jupyter": {
     "outputs_hidden": false
    },
    "ExecuteTime": {
     "end_time": "2024-06-22T16:11:24.270805Z",
     "start_time": "2024-06-22T16:11:24.211086Z"
    }
   },
   "source": [
    "get_paths = lambda path: [f\"{os.path.join(root, file)}\" for root, dirs, files in os.walk(path) for file in files]\n",
    "masks_dir = os.path.join(\"data\", \"masks_200x150\")\n",
    "boxes_dir = os.path.join(\"data\", \"boxes\")\n",
    "mask_paths = get_paths(masks_dir)\n",
    "metadata_path = os.path.join(\"data\", \"HAM10000_metadata.csv\")\n",
    "data = pd.read_csv(metadata_path).sort_values(by=\"image_id\")"
   ],
   "outputs": [],
   "execution_count": 9
  },
  {
   "cell_type": "code",
   "metadata": {
    "collapsed": false,
    "jupyter": {
     "outputs_hidden": false
    },
    "ExecuteTime": {
     "end_time": "2024-06-22T15:57:34.993098Z",
     "start_time": "2024-06-22T15:57:34.987509Z"
    }
   },
   "source": [
    "def get_coord(array: np.ndarray) -> int:\n",
    "    coord = 0\n",
    "\n",
    "    for row in array:\n",
    "        if np.any(row > 0):\n",
    "            break\n",
    "\n",
    "        coord += 1\n",
    "\n",
    "    return coord\n",
    "\n",
    "\n",
    "def get_name(mask_path: str) -> str:\n",
    "    return \"_\".join(\n",
    "        mask_path\n",
    "        .split(os.sep)[-1]\n",
    "        .split(\".\")[-2]\n",
    "        .split(\"_\")[:-1])"
   ],
   "outputs": [],
   "execution_count": 4
  },
  {
   "cell_type": "markdown",
   "metadata": {
    "collapsed": false,
    "jupyter": {
     "outputs_hidden": false
    }
   },
   "source": [
    "Some images had different formats from the other ones. Better to drop the alpha channel entirely and operate on grayscale images."
   ]
  },
  {
   "cell_type": "code",
   "metadata": {
    "collapsed": false,
    "jupyter": {
     "outputs_hidden": false
    },
    "ExecuteTime": {
     "end_time": "2024-06-22T15:58:09.646728Z",
     "start_time": "2024-06-22T15:57:36.923240Z"
    }
   },
   "source": [
    "tops = []\n",
    "bottoms = []\n",
    "lefts = []\n",
    "rights = []\n",
    "\n",
    "for mask_path in mask_paths:\n",
    "    with PIL.Image.open(mask_path).convert(\"RGB\").convert(\"L\") as mask:\n",
    "        mask_pixels = np.asarray(mask)\n",
    "        shape = mask_pixels.shape\n",
    "        name = get_name(mask_path)\n",
    "\n",
    "        tops.append(get_coord(mask_pixels))\n",
    "        bottoms.append(shape[0] - get_coord(mask_pixels[::-1]))\n",
    "        lefts.append(get_coord(mask_pixels.T))\n",
    "        rights.append(shape[1] - get_coord(mask_pixels.T[::-1]))\n",
    "\n",
    "        new_path = os.path.join(boxes_dir, f\"{name}.png\")\n",
    "\n",
    "        draw_rectangle(mask, (lefts[-1], tops[-1], rights[-1], bottoms[-1]), new_path)"
   ],
   "outputs": [],
   "execution_count": 5
  },
  {
   "cell_type": "code",
   "metadata": {
    "collapsed": false,
    "jupyter": {
     "outputs_hidden": false
    },
    "ExecuteTime": {
     "end_time": "2024-06-22T15:58:23.636006Z",
     "start_time": "2024-06-22T15:58:23.622156Z"
    }
   },
   "source": [
    "data[\"top\"] = tops\n",
    "data[\"bottom\"] = bottoms\n",
    "data[\"left\"] = lefts\n",
    "data[\"right\"] = rights"
   ],
   "outputs": [],
   "execution_count": 6
  },
  {
   "cell_type": "code",
   "metadata": {
    "collapsed": false,
    "jupyter": {
     "outputs_hidden": false
    },
    "ExecuteTime": {
     "end_time": "2024-06-22T15:58:25.041967Z",
     "start_time": "2024-06-22T15:58:24.984220Z"
    }
   },
   "source": [
    "extended_metadata_path = os.path.join('data', 'HAM10000_metadata_ext.csv')\n",
    "\n",
    "data.to_csv(extended_metadata_path)"
   ],
   "outputs": [],
   "execution_count": 7
  },
  {
   "cell_type": "code",
   "execution_count": null,
   "metadata": {
    "collapsed": false,
    "jupyter": {
     "outputs_hidden": false
    }
   },
   "outputs": [],
   "source": []
  }
 ],
 "metadata": {
  "kernelspec": {
   "display_name": "Python [conda env:.conda-bounding_box_detection_ham10000_torch] *",
   "language": "python",
   "name": "conda-env-.conda-bounding_box_detection_ham10000_torch-py"
  },
  "language_info": {
   "codemirror_mode": {
    "name": "ipython",
    "version": 3
   },
   "file_extension": ".py",
   "mimetype": "text/x-python",
   "name": "python",
   "nbconvert_exporter": "python",
   "pygments_lexer": "ipython3",
   "version": "3.11.9"
  }
 },
 "nbformat": 4,
 "nbformat_minor": 4
}

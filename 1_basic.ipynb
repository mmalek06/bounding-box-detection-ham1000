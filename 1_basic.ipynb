{
 "cells": [
  {
   "cell_type": "code",
   "id": "initial_id",
   "metadata": {
    "ExecuteTime": {
     "end_time": "2024-06-22T19:18:07.323865Z",
     "start_time": "2024-06-22T19:18:07.315004Z"
    }
   },
   "source": [
    "import os\n",
    "import seaborn as sns\n",
    "import matplotlib.pyplot as plt\n",
    "import torch\n",
    "import torch.nn as nn\n",
    "import torch.optim as optim\n",
    "import torch.nn.functional as F\n",
    "import torchvision.transforms as transforms\n",
    "\n",
    "from PIL import Image, ImageDraw\n",
    "from torchvision.transforms.functional import to_pil_image\n",
    "from tqdm import tqdm\n",
    "from functions.datasets import CocoDetectionWithFilenames\n",
    "\n",
    "print(torch.__version__)\n",
    "print(torch.cuda.is_available())"
   ],
   "outputs": [
    {
     "name": "stdout",
     "output_type": "stream",
     "text": [
      "2.3.1\n",
      "True\n"
     ]
    }
   ],
   "execution_count": 27
  },
  {
   "metadata": {
    "ExecuteTime": {
     "end_time": "2024-06-22T19:18:07.565279Z",
     "start_time": "2024-06-22T19:18:07.483513Z"
    }
   },
   "cell_type": "code",
   "source": [
    "transform = transforms.Compose([\n",
    "    transforms.ToTensor()\n",
    "])\n",
    "dataset = CocoDetectionWithFilenames(\n",
    "    root=os.path.join(\"data\", \"images\"), \n",
    "    annFile=os.path.join(\"data\", \"coco_annotations.json\"), \n",
    "    transform=transform\n",
    ")\n",
    "train_size = int(0.7 * len(dataset))\n",
    "valid_size = int(0.15 * len(dataset))\n",
    "test_size = len(dataset) - train_size - valid_size\n",
    "train_dataset, valid_dataset, test_dataset = torch.utils.data.random_split(dataset, [train_size, valid_size, test_size])\n",
    "num_workers = os.cpu_count()\n",
    "train_loader = torch.utils.data.DataLoader(train_dataset, batch_size=32, shuffle=True, num_workers=num_workers)\n",
    "valid_loader = torch.utils.data.DataLoader(valid_dataset, batch_size=32, shuffle=False, num_workers=num_workers)\n",
    "test_loader = torch.utils.data.DataLoader(test_dataset, batch_size=32, shuffle=False, num_workers=num_workers)\n",
    "device = torch.device(\"cuda\" if torch.cuda.is_available() else \"cpu\")\n",
    "\n",
    "print(device)"
   ],
   "id": "cbd4933e80e1751c",
   "outputs": [
    {
     "name": "stdout",
     "output_type": "stream",
     "text": [
      "loading annotations into memory...\n",
      "Done (t=0.07s)\n",
      "creating index...\n",
      "index created!\n",
      "cuda\n"
     ]
    }
   ],
   "execution_count": 28
  },
  {
   "metadata": {
    "ExecuteTime": {
     "end_time": "2024-06-22T18:19:25.626894Z",
     "start_time": "2024-06-22T18:19:25.618665Z"
    }
   },
   "cell_type": "code",
   "source": [
    "class BoundingBoxModel(nn.Module):\n",
    "    def __init__(self):\n",
    "        super(BoundingBoxModel, self).__init__()\n",
    "        \n",
    "        self.conv1 = nn.Conv2d(3, 16, kernel_size=3, stride=1, padding=1)\n",
    "        self.pool = nn.MaxPool2d(kernel_size=2, stride=2, padding=0)\n",
    "        self.conv2 = nn.Conv2d(16, 32, kernel_size=3, stride=1, padding=1)\n",
    "        self.conv3 = nn.Conv2d(32, 64, kernel_size=3, stride=1, padding=1)\n",
    "        self.fc1 = self._initialize_fc1()\n",
    "        self.fc2 = nn.Linear(128, 4)\n",
    "\n",
    "    def forward(self, x: torch.Tensor) -> torch.Tensor:\n",
    "        x = self._run_first_layers(x)\n",
    "        x = F.relu(self.fc1(x))\n",
    "        x = self.fc2(x)\n",
    "        \n",
    "        return x\n",
    "\n",
    "    def _initialize_fc1(self) -> nn.Linear:\n",
    "        with torch.no_grad():\n",
    "            dummy_input = torch.zeros(1, 3, 150, 200)\n",
    "            x = self._run_first_layers(dummy_input)\n",
    "            input_size = x.size(1)\n",
    "            \n",
    "            return nn.Linear(input_size, 128)\n",
    "        \n",
    "    def _run_first_layers(self, x: torch.Tensor) -> torch.Tensor:\n",
    "        x = self.pool(F.relu(self.conv1(x)))\n",
    "        x = self.pool(F.relu(self.conv2(x)))\n",
    "        x = self.pool(F.relu(self.conv3(x)))\n",
    "        x = x.view(-1, x.size(1) * x.size(2) * x.size(3))\n",
    "        \n",
    "        return x"
   ],
   "id": "1916a158db53d9c4",
   "outputs": [],
   "execution_count": 14
  },
  {
   "metadata": {
    "ExecuteTime": {
     "end_time": "2024-06-22T18:19:26.089441Z",
     "start_time": "2024-06-22T18:19:26.037853Z"
    }
   },
   "cell_type": "code",
   "source": [
    "def extract_bboxes(targets: list[dict]) -> list[torch.Tensor]:\n",
    "    bboxes = []\n",
    "    \n",
    "    for target in targets:\n",
    "        xs, ys, widths, heights = target[\"bbox\"]\n",
    "    \n",
    "        for idx, _ in enumerate(xs):\n",
    "            x1, y1, width, height = xs[idx], ys[idx], widths[idx], heights[idx]\n",
    "            # Convert COCO format (x, y, width, height) to (x1, y1, x2, y2)\n",
    "            x2, y2 = x1 + width, y1 + height\n",
    "    \n",
    "            bboxes.append(torch.IntTensor([x1, y1, x2, y2]))\n",
    "\n",
    "    return bboxes\n",
    "\n",
    "\n",
    "model = BoundingBoxModel().to(device)\n",
    "criterion = nn.SmoothL1Loss()\n",
    "optimizer = optim.Adam(model.parameters(), lr=0.001)"
   ],
   "id": "a21c004fab324886",
   "outputs": [],
   "execution_count": 15
  },
  {
   "metadata": {
    "ExecuteTime": {
     "end_time": "2024-06-22T18:58:36.103418Z",
     "start_time": "2024-06-22T18:19:26.462611Z"
    }
   },
   "cell_type": "code",
   "source": [
    "num_epochs = 25\n",
    "train_losses = []\n",
    "val_losses = []\n",
    "\n",
    "for epoch in range(num_epochs):\n",
    "    model.train()\n",
    "    running_loss = 0.0\n",
    "\n",
    "    train_loader_tqdm = tqdm(train_loader, desc=f\"Epoch {epoch + 1}/{num_epochs} - Training\")\n",
    "\n",
    "    for images, targets in train_loader_tqdm:\n",
    "        images = images.to(device)\n",
    "        bboxes = extract_bboxes(targets)\n",
    "        bboxes = torch.stack(bboxes).to(device)\n",
    "\n",
    "        optimizer.zero_grad()\n",
    "\n",
    "        outputs = model(images)\n",
    "        loss = criterion(outputs, bboxes)\n",
    "\n",
    "        loss.backward()\n",
    "        optimizer.step()\n",
    "\n",
    "        running_loss += loss.item()\n",
    "        \n",
    "        train_loader_tqdm.set_postfix({\"Train Loss\": running_loss / len(train_loader)})\n",
    "\n",
    "    epoch_train_loss = running_loss / len(train_loader)\n",
    "\n",
    "    train_losses.append(epoch_train_loss)\n",
    "    print(f\"Epoch {epoch + 1}, Loss: {epoch_train_loss}\")\n",
    "    model.eval()\n",
    "\n",
    "    val_loss = 0.0\n",
    "    valid_loader_tqdm = tqdm(valid_loader, desc=f\"Epoch {epoch + 1}/{num_epochs} - Validation\")\n",
    "    \n",
    "    with torch.no_grad():\n",
    "        for images, targets in valid_loader_tqdm:\n",
    "            images = images.to(device)\n",
    "            bboxes = extract_bboxes(targets)\n",
    "            bboxes = torch.stack(bboxes).to(device)\n",
    "            outputs = model(images)\n",
    "            loss = criterion(outputs, bboxes)\n",
    "            val_loss += loss.item()\n",
    "            \n",
    "            valid_loader_tqdm.set_postfix({\"Val Loss\": val_loss / len(valid_loader)})\n",
    "\n",
    "    epoch_val_loss = val_loss / len(valid_loader)\n",
    "    \n",
    "    val_losses.append(epoch_val_loss)\n",
    "    print(f\"Validation Loss: {epoch_val_loss}\")\n",
    "\n",
    "print(\"Training complete\")"
   ],
   "id": "50a1c15dc6c5dbb8",
   "outputs": [
    {
     "name": "stderr",
     "output_type": "stream",
     "text": [
      "Epoch 1/25 - Training: 100%|██████████| 220/220 [00:48<00:00,  4.53it/s, Train Loss=18.5] \n"
     ]
    },
    {
     "name": "stdout",
     "output_type": "stream",
     "text": [
      "Epoch 1, Loss: 18.521537538008257\n"
     ]
    },
    {
     "name": "stderr",
     "output_type": "stream",
     "text": [
      "Epoch 1/25 - Validation: 100%|██████████| 47/47 [00:46<00:00,  1.02it/s, Val Loss=10.6]\n"
     ]
    },
    {
     "name": "stdout",
     "output_type": "stream",
     "text": [
      "Validation Loss: 10.552981051992862\n"
     ]
    },
    {
     "name": "stderr",
     "output_type": "stream",
     "text": [
      "Epoch 2/25 - Training: 100%|██████████| 220/220 [00:48<00:00,  4.51it/s, Train Loss=10.4]  \n"
     ]
    },
    {
     "name": "stdout",
     "output_type": "stream",
     "text": [
      "Epoch 2, Loss: 10.382498448545283\n"
     ]
    },
    {
     "name": "stderr",
     "output_type": "stream",
     "text": [
      "Epoch 2/25 - Validation: 100%|██████████| 47/47 [00:43<00:00,  1.07it/s, Val Loss=10.6]\n"
     ]
    },
    {
     "name": "stdout",
     "output_type": "stream",
     "text": [
      "Validation Loss: 10.634013033927754\n"
     ]
    },
    {
     "name": "stderr",
     "output_type": "stream",
     "text": [
      "Epoch 3/25 - Training: 100%|██████████| 220/220 [00:48<00:00,  4.54it/s, Train Loss=8.92]  \n"
     ]
    },
    {
     "name": "stdout",
     "output_type": "stream",
     "text": [
      "Epoch 3, Loss: 8.921813758936795\n"
     ]
    },
    {
     "name": "stderr",
     "output_type": "stream",
     "text": [
      "Epoch 3/25 - Validation: 100%|██████████| 47/47 [00:44<00:00,  1.06it/s, Val Loss=9.3] \n"
     ]
    },
    {
     "name": "stdout",
     "output_type": "stream",
     "text": [
      "Validation Loss: 9.302984623198814\n"
     ]
    },
    {
     "name": "stderr",
     "output_type": "stream",
     "text": [
      "Epoch 4/25 - Training: 100%|██████████| 220/220 [00:48<00:00,  4.52it/s, Train Loss=8.47]  \n"
     ]
    },
    {
     "name": "stdout",
     "output_type": "stream",
     "text": [
      "Epoch 4, Loss: 8.4671715519645\n"
     ]
    },
    {
     "name": "stderr",
     "output_type": "stream",
     "text": [
      "Epoch 4/25 - Validation: 100%|██████████| 47/47 [00:44<00:00,  1.05it/s, Val Loss=8.06]\n"
     ]
    },
    {
     "name": "stdout",
     "output_type": "stream",
     "text": [
      "Validation Loss: 8.061620306461416\n"
     ]
    },
    {
     "name": "stderr",
     "output_type": "stream",
     "text": [
      "Epoch 5/25 - Training: 100%|██████████| 220/220 [00:48<00:00,  4.53it/s, Train Loss=8.13]  \n"
     ]
    },
    {
     "name": "stdout",
     "output_type": "stream",
     "text": [
      "Epoch 5, Loss: 8.131578614495018\n"
     ]
    },
    {
     "name": "stderr",
     "output_type": "stream",
     "text": [
      "Epoch 5/25 - Validation: 100%|██████████| 47/47 [00:44<00:00,  1.06it/s, Val Loss=8.43]\n"
     ]
    },
    {
     "name": "stdout",
     "output_type": "stream",
     "text": [
      "Validation Loss: 8.43319174583922\n"
     ]
    },
    {
     "name": "stderr",
     "output_type": "stream",
     "text": [
      "Epoch 6/25 - Training: 100%|██████████| 220/220 [00:49<00:00,  4.43it/s, Train Loss=7.89]  \n"
     ]
    },
    {
     "name": "stdout",
     "output_type": "stream",
     "text": [
      "Epoch 6, Loss: 7.88743596943942\n"
     ]
    },
    {
     "name": "stderr",
     "output_type": "stream",
     "text": [
      "Epoch 6/25 - Validation: 100%|██████████| 47/47 [00:45<00:00,  1.03it/s, Val Loss=8.84]\n"
     ]
    },
    {
     "name": "stdout",
     "output_type": "stream",
     "text": [
      "Validation Loss: 8.836701717782528\n"
     ]
    },
    {
     "name": "stderr",
     "output_type": "stream",
     "text": [
      "Epoch 7/25 - Training: 100%|██████████| 220/220 [00:48<00:00,  4.52it/s, Train Loss=7.67]  \n"
     ]
    },
    {
     "name": "stdout",
     "output_type": "stream",
     "text": [
      "Epoch 7, Loss: 7.671473678675565\n"
     ]
    },
    {
     "name": "stderr",
     "output_type": "stream",
     "text": [
      "Epoch 7/25 - Validation: 100%|██████████| 47/47 [00:44<00:00,  1.05it/s, Val Loss=8.09]\n"
     ]
    },
    {
     "name": "stdout",
     "output_type": "stream",
     "text": [
      "Validation Loss: 8.093115218142247\n"
     ]
    },
    {
     "name": "stderr",
     "output_type": "stream",
     "text": [
      "Epoch 8/25 - Training: 100%|██████████| 220/220 [00:48<00:00,  4.53it/s, Train Loss=7.49]  \n"
     ]
    },
    {
     "name": "stdout",
     "output_type": "stream",
     "text": [
      "Epoch 8, Loss: 7.492988909374584\n"
     ]
    },
    {
     "name": "stderr",
     "output_type": "stream",
     "text": [
      "Epoch 8/25 - Validation: 100%|██████████| 47/47 [00:44<00:00,  1.05it/s, Val Loss=10.9]\n"
     ]
    },
    {
     "name": "stdout",
     "output_type": "stream",
     "text": [
      "Validation Loss: 10.861517236587849\n"
     ]
    },
    {
     "name": "stderr",
     "output_type": "stream",
     "text": [
      "Epoch 9/25 - Training: 100%|██████████| 220/220 [00:49<00:00,  4.47it/s, Train Loss=7.51]  \n"
     ]
    },
    {
     "name": "stdout",
     "output_type": "stream",
     "text": [
      "Epoch 9, Loss: 7.5127035390247\n"
     ]
    },
    {
     "name": "stderr",
     "output_type": "stream",
     "text": [
      "Epoch 9/25 - Validation: 100%|██████████| 47/47 [00:46<00:00,  1.01it/s, Val Loss=6.99]\n"
     ]
    },
    {
     "name": "stdout",
     "output_type": "stream",
     "text": [
      "Validation Loss: 6.991475429940731\n"
     ]
    },
    {
     "name": "stderr",
     "output_type": "stream",
     "text": [
      "Epoch 10/25 - Training: 100%|██████████| 220/220 [00:48<00:00,  4.53it/s, Train Loss=7]     \n"
     ]
    },
    {
     "name": "stdout",
     "output_type": "stream",
     "text": [
      "Epoch 10, Loss: 6.9980673703280365\n"
     ]
    },
    {
     "name": "stderr",
     "output_type": "stream",
     "text": [
      "Epoch 10/25 - Validation: 100%|██████████| 47/47 [00:45<00:00,  1.04it/s, Val Loss=7.21]\n"
     ]
    },
    {
     "name": "stdout",
     "output_type": "stream",
     "text": [
      "Validation Loss: 7.209174480844052\n"
     ]
    },
    {
     "name": "stderr",
     "output_type": "stream",
     "text": [
      "Epoch 11/25 - Training: 100%|██████████| 220/220 [00:48<00:00,  4.50it/s, Train Loss=6.97]  \n"
     ]
    },
    {
     "name": "stdout",
     "output_type": "stream",
     "text": [
      "Epoch 11, Loss: 6.9661302707412025\n"
     ]
    },
    {
     "name": "stderr",
     "output_type": "stream",
     "text": [
      "Epoch 11/25 - Validation: 100%|██████████| 47/47 [00:45<00:00,  1.03it/s, Val Loss=7.39]\n"
     ]
    },
    {
     "name": "stdout",
     "output_type": "stream",
     "text": [
      "Validation Loss: 7.3852989927251285\n"
     ]
    },
    {
     "name": "stderr",
     "output_type": "stream",
     "text": [
      "Epoch 12/25 - Training: 100%|██████████| 220/220 [00:48<00:00,  4.53it/s, Train Loss=7.02]  \n"
     ]
    },
    {
     "name": "stdout",
     "output_type": "stream",
     "text": [
      "Epoch 12, Loss: 7.015096428177573\n"
     ]
    },
    {
     "name": "stderr",
     "output_type": "stream",
     "text": [
      "Epoch 12/25 - Validation: 100%|██████████| 47/47 [00:44<00:00,  1.05it/s, Val Loss=9.59]\n"
     ]
    },
    {
     "name": "stdout",
     "output_type": "stream",
     "text": [
      "Validation Loss: 9.585002716551436\n"
     ]
    },
    {
     "name": "stderr",
     "output_type": "stream",
     "text": [
      "Epoch 13/25 - Training: 100%|██████████| 220/220 [00:48<00:00,  4.51it/s, Train Loss=6.82]  \n"
     ]
    },
    {
     "name": "stdout",
     "output_type": "stream",
     "text": [
      "Epoch 13, Loss: 6.819957408038053\n"
     ]
    },
    {
     "name": "stderr",
     "output_type": "stream",
     "text": [
      "Epoch 13/25 - Validation: 100%|██████████| 47/47 [00:45<00:00,  1.04it/s, Val Loss=7.26]\n"
     ]
    },
    {
     "name": "stdout",
     "output_type": "stream",
     "text": [
      "Validation Loss: 7.264607754159481\n"
     ]
    },
    {
     "name": "stderr",
     "output_type": "stream",
     "text": [
      "Epoch 14/25 - Training: 100%|██████████| 220/220 [00:49<00:00,  4.47it/s, Train Loss=6.72]  \n"
     ]
    },
    {
     "name": "stdout",
     "output_type": "stream",
     "text": [
      "Epoch 14, Loss: 6.722924176129427\n"
     ]
    },
    {
     "name": "stderr",
     "output_type": "stream",
     "text": [
      "Epoch 14/25 - Validation: 100%|██████████| 47/47 [00:46<00:00,  1.01it/s, Val Loss=7.04]\n"
     ]
    },
    {
     "name": "stdout",
     "output_type": "stream",
     "text": [
      "Validation Loss: 7.043954991279764\n"
     ]
    },
    {
     "name": "stderr",
     "output_type": "stream",
     "text": [
      "Epoch 15/25 - Training: 100%|██████████| 220/220 [00:52<00:00,  4.17it/s, Train Loss=6.52]  \n"
     ]
    },
    {
     "name": "stdout",
     "output_type": "stream",
     "text": [
      "Epoch 15, Loss: 6.51542154008692\n"
     ]
    },
    {
     "name": "stderr",
     "output_type": "stream",
     "text": [
      "Epoch 15/25 - Validation: 100%|██████████| 47/47 [00:46<00:00,  1.01it/s, Val Loss=6.55]\n"
     ]
    },
    {
     "name": "stdout",
     "output_type": "stream",
     "text": [
      "Validation Loss: 6.547439402722298\n"
     ]
    },
    {
     "name": "stderr",
     "output_type": "stream",
     "text": [
      "Epoch 16/25 - Training: 100%|██████████| 220/220 [00:50<00:00,  4.36it/s, Train Loss=6.76]  \n"
     ]
    },
    {
     "name": "stdout",
     "output_type": "stream",
     "text": [
      "Epoch 16, Loss: 6.758858234232123\n"
     ]
    },
    {
     "name": "stderr",
     "output_type": "stream",
     "text": [
      "Epoch 16/25 - Validation: 100%|██████████| 47/47 [00:44<00:00,  1.06it/s, Val Loss=7.39]\n"
     ]
    },
    {
     "name": "stdout",
     "output_type": "stream",
     "text": [
      "Validation Loss: 7.392807503964039\n"
     ]
    },
    {
     "name": "stderr",
     "output_type": "stream",
     "text": [
      "Epoch 17/25 - Training: 100%|██████████| 220/220 [00:48<00:00,  4.53it/s, Train Loss=6.4]   \n"
     ]
    },
    {
     "name": "stdout",
     "output_type": "stream",
     "text": [
      "Epoch 17, Loss: 6.396540895375338\n"
     ]
    },
    {
     "name": "stderr",
     "output_type": "stream",
     "text": [
      "Epoch 17/25 - Validation: 100%|██████████| 47/47 [00:44<00:00,  1.07it/s, Val Loss=7.05]\n"
     ]
    },
    {
     "name": "stdout",
     "output_type": "stream",
     "text": [
      "Validation Loss: 7.0547826239403255\n"
     ]
    },
    {
     "name": "stderr",
     "output_type": "stream",
     "text": [
      "Epoch 18/25 - Training: 100%|██████████| 220/220 [00:48<00:00,  4.55it/s, Train Loss=6.44]  \n"
     ]
    },
    {
     "name": "stdout",
     "output_type": "stream",
     "text": [
      "Epoch 18, Loss: 6.4438860719854185\n"
     ]
    },
    {
     "name": "stderr",
     "output_type": "stream",
     "text": [
      "Epoch 18/25 - Validation: 100%|██████████| 47/47 [00:44<00:00,  1.07it/s, Val Loss=6.98]\n"
     ]
    },
    {
     "name": "stdout",
     "output_type": "stream",
     "text": [
      "Validation Loss: 6.97978261176576\n"
     ]
    },
    {
     "name": "stderr",
     "output_type": "stream",
     "text": [
      "Epoch 19/25 - Training: 100%|██████████| 220/220 [00:48<00:00,  4.55it/s, Train Loss=6.3]   \n"
     ]
    },
    {
     "name": "stdout",
     "output_type": "stream",
     "text": [
      "Epoch 19, Loss: 6.295994289354844\n"
     ]
    },
    {
     "name": "stderr",
     "output_type": "stream",
     "text": [
      "Epoch 19/25 - Validation: 100%|██████████| 47/47 [00:43<00:00,  1.07it/s, Val Loss=6.49]\n"
     ]
    },
    {
     "name": "stdout",
     "output_type": "stream",
     "text": [
      "Validation Loss: 6.490070758981908\n"
     ]
    },
    {
     "name": "stderr",
     "output_type": "stream",
     "text": [
      "Epoch 20/25 - Training: 100%|██████████| 220/220 [00:48<00:00,  4.53it/s, Train Loss=6.23]  \n"
     ]
    },
    {
     "name": "stdout",
     "output_type": "stream",
     "text": [
      "Epoch 20, Loss: 6.233892892707478\n"
     ]
    },
    {
     "name": "stderr",
     "output_type": "stream",
     "text": [
      "Epoch 20/25 - Validation: 100%|██████████| 47/47 [00:44<00:00,  1.05it/s, Val Loss=6.43]\n"
     ]
    },
    {
     "name": "stdout",
     "output_type": "stream",
     "text": [
      "Validation Loss: 6.433213852821512\n"
     ]
    },
    {
     "name": "stderr",
     "output_type": "stream",
     "text": [
      "Epoch 21/25 - Training: 100%|██████████| 220/220 [00:49<00:00,  4.48it/s, Train Loss=6.3]   \n"
     ]
    },
    {
     "name": "stdout",
     "output_type": "stream",
     "text": [
      "Epoch 21, Loss: 6.29629481272264\n"
     ]
    },
    {
     "name": "stderr",
     "output_type": "stream",
     "text": [
      "Epoch 21/25 - Validation: 100%|██████████| 47/47 [00:44<00:00,  1.06it/s, Val Loss=6.6] \n"
     ]
    },
    {
     "name": "stdout",
     "output_type": "stream",
     "text": [
      "Validation Loss: 6.602298462644536\n"
     ]
    },
    {
     "name": "stderr",
     "output_type": "stream",
     "text": [
      "Epoch 22/25 - Training: 100%|██████████| 220/220 [00:48<00:00,  4.51it/s, Train Loss=6.21]  \n"
     ]
    },
    {
     "name": "stdout",
     "output_type": "stream",
     "text": [
      "Epoch 22, Loss: 6.2105201428586785\n"
     ]
    },
    {
     "name": "stderr",
     "output_type": "stream",
     "text": [
      "Epoch 22/25 - Validation: 100%|██████████| 47/47 [00:44<00:00,  1.06it/s, Val Loss=6.53]\n"
     ]
    },
    {
     "name": "stdout",
     "output_type": "stream",
     "text": [
      "Validation Loss: 6.534119575581652\n"
     ]
    },
    {
     "name": "stderr",
     "output_type": "stream",
     "text": [
      "Epoch 23/25 - Training: 100%|██████████| 220/220 [00:48<00:00,  4.51it/s, Train Loss=6.09]  \n"
     ]
    },
    {
     "name": "stdout",
     "output_type": "stream",
     "text": [
      "Epoch 23, Loss: 6.086889339577068\n"
     ]
    },
    {
     "name": "stderr",
     "output_type": "stream",
     "text": [
      "Epoch 23/25 - Validation: 100%|██████████| 47/47 [00:44<00:00,  1.06it/s, Val Loss=7.85]\n"
     ]
    },
    {
     "name": "stdout",
     "output_type": "stream",
     "text": [
      "Validation Loss: 7.847876193675589\n"
     ]
    },
    {
     "name": "stderr",
     "output_type": "stream",
     "text": [
      "Epoch 24/25 - Training: 100%|██████████| 220/220 [00:49<00:00,  4.41it/s, Train Loss=6.14]  \n"
     ]
    },
    {
     "name": "stdout",
     "output_type": "stream",
     "text": [
      "Epoch 24, Loss: 6.138635038245808\n"
     ]
    },
    {
     "name": "stderr",
     "output_type": "stream",
     "text": [
      "Epoch 24/25 - Validation: 100%|██████████| 47/47 [00:45<00:00,  1.04it/s, Val Loss=6.3] \n"
     ]
    },
    {
     "name": "stdout",
     "output_type": "stream",
     "text": [
      "Validation Loss: 6.301226037613889\n"
     ]
    },
    {
     "name": "stderr",
     "output_type": "stream",
     "text": [
      "Epoch 25/25 - Training: 100%|██████████| 220/220 [00:49<00:00,  4.40it/s, Train Loss=5.98]  \n"
     ]
    },
    {
     "name": "stdout",
     "output_type": "stream",
     "text": [
      "Epoch 25, Loss: 5.984524158997969\n"
     ]
    },
    {
     "name": "stderr",
     "output_type": "stream",
     "text": [
      "Epoch 25/25 - Validation: 100%|██████████| 47/47 [00:44<00:00,  1.06it/s, Val Loss=6.7] "
     ]
    },
    {
     "name": "stdout",
     "output_type": "stream",
     "text": [
      "Validation Loss: 6.70321979928524\n",
      "Training complete\n"
     ]
    },
    {
     "name": "stderr",
     "output_type": "stream",
     "text": [
      "\n"
     ]
    }
   ],
   "execution_count": 16
  },
  {
   "metadata": {
    "ExecuteTime": {
     "end_time": "2024-06-22T18:58:36.346295Z",
     "start_time": "2024-06-22T18:58:36.105426Z"
    }
   },
   "cell_type": "code",
   "source": [
    "plt.figure(figsize=(10, 5))\n",
    "\n",
    "epochs = range(1, num_epochs + 1)\n",
    "\n",
    "sns.lineplot(x=epochs, y=train_losses, label=\"Train Loss\")\n",
    "sns.lineplot(x=epochs, y=val_losses, label=\"Validation Loss\")\n",
    "plt.xlabel(\"Epoch\")\n",
    "plt.ylabel(\"Loss\")\n",
    "plt.title(\"Train Loss vs Validation Loss\")\n",
    "plt.legend()\n",
    "plt.show()"
   ],
   "id": "f4cdaf0c7ba069d9",
   "outputs": [
    {
     "name": "stderr",
     "output_type": "stream",
     "text": [
      "C:\\Users\\mmale\\.conda\\envs\\bounding_box_detection_ham10000_torch\\Lib\\site-packages\\seaborn\\_oldcore.py:1498: FutureWarning: is_categorical_dtype is deprecated and will be removed in a future version. Use isinstance(dtype, CategoricalDtype) instead\n",
      "  if pd.api.types.is_categorical_dtype(vector):\n",
      "C:\\Users\\mmale\\.conda\\envs\\bounding_box_detection_ham10000_torch\\Lib\\site-packages\\seaborn\\_oldcore.py:1498: FutureWarning: is_categorical_dtype is deprecated and will be removed in a future version. Use isinstance(dtype, CategoricalDtype) instead\n",
      "  if pd.api.types.is_categorical_dtype(vector):\n",
      "C:\\Users\\mmale\\.conda\\envs\\bounding_box_detection_ham10000_torch\\Lib\\site-packages\\seaborn\\_oldcore.py:1119: FutureWarning: use_inf_as_na option is deprecated and will be removed in a future version. Convert inf values to NaN before operating instead.\n",
      "  with pd.option_context('mode.use_inf_as_na', True):\n",
      "C:\\Users\\mmale\\.conda\\envs\\bounding_box_detection_ham10000_torch\\Lib\\site-packages\\seaborn\\_oldcore.py:1119: FutureWarning: use_inf_as_na option is deprecated and will be removed in a future version. Convert inf values to NaN before operating instead.\n",
      "  with pd.option_context('mode.use_inf_as_na', True):\n",
      "C:\\Users\\mmale\\.conda\\envs\\bounding_box_detection_ham10000_torch\\Lib\\site-packages\\seaborn\\_oldcore.py:1498: FutureWarning: is_categorical_dtype is deprecated and will be removed in a future version. Use isinstance(dtype, CategoricalDtype) instead\n",
      "  if pd.api.types.is_categorical_dtype(vector):\n",
      "C:\\Users\\mmale\\.conda\\envs\\bounding_box_detection_ham10000_torch\\Lib\\site-packages\\seaborn\\_oldcore.py:1498: FutureWarning: is_categorical_dtype is deprecated and will be removed in a future version. Use isinstance(dtype, CategoricalDtype) instead\n",
      "  if pd.api.types.is_categorical_dtype(vector):\n",
      "C:\\Users\\mmale\\.conda\\envs\\bounding_box_detection_ham10000_torch\\Lib\\site-packages\\seaborn\\_oldcore.py:1119: FutureWarning: use_inf_as_na option is deprecated and will be removed in a future version. Convert inf values to NaN before operating instead.\n",
      "  with pd.option_context('mode.use_inf_as_na', True):\n",
      "C:\\Users\\mmale\\.conda\\envs\\bounding_box_detection_ham10000_torch\\Lib\\site-packages\\seaborn\\_oldcore.py:1119: FutureWarning: use_inf_as_na option is deprecated and will be removed in a future version. Convert inf values to NaN before operating instead.\n",
      "  with pd.option_context('mode.use_inf_as_na', True):\n"
     ]
    },
    {
     "data": {
      "text/plain": [
       "<Figure size 1000x500 with 1 Axes>"
      ],
      "image/png": "[encoded data removed]"
     },
     "metadata": {},
     "output_type": "display_data"
    }
   ],
   "execution_count": 17
  },
  {
   "metadata": {
    "ExecuteTime": {
     "end_time": "2024-06-22T18:59:21.240056Z",
     "start_time": "2024-06-22T18:58:36.347303Z"
    }
   },
   "cell_type": "code",
   "source": [
    "model.eval()\n",
    "test_loss = 0.0\n",
    "test_loader_tqdm = tqdm(test_loader, desc=\"Testing\")\n",
    "\n",
    "with torch.no_grad():\n",
    "    for images, targets in test_loader_tqdm:\n",
    "        images = images.to(device)\n",
    "        bboxes = extract_bboxes(targets)\n",
    "        bboxes = torch.stack(bboxes).to(device)\n",
    "        outputs = model(images)\n",
    "        loss = criterion(outputs, bboxes)\n",
    "        test_loss += loss.item()\n",
    "\n",
    "        test_loader_tqdm.set_postfix({\"Test Loss\": test_loss / len(test_loader)})\n",
    "\n",
    "test_loss = test_loss / len(test_loader)\n",
    "\n",
    "print(f\"Test Loss: {test_loss}\")"
   ],
   "id": "a0d936c188bbad1",
   "outputs": [
    {
     "name": "stderr",
     "output_type": "stream",
     "text": [
      "Testing: 100%|██████████| 47/47 [00:44<00:00,  1.05it/s, Test Loss=6.91]"
     ]
    },
    {
     "name": "stdout",
     "output_type": "stream",
     "text": [
      "Test Loss: 6.905514311283193\n"
     ]
    },
    {
     "name": "stderr",
     "output_type": "stream",
     "text": [
      "\n"
     ]
    }
   ],
   "execution_count": 18
  },
  {
   "metadata": {
    "ExecuteTime": {
     "end_time": "2024-06-22T19:19:19.415540Z",
     "start_time": "2024-06-22T19:18:29.593093Z"
    }
   },
   "cell_type": "code",
   "source": [
    "def draw_bounding_boxes(image: Image.Image, box: tuple[int, int, int, int]) -> Image.Image:\n",
    "    draw = ImageDraw.Draw(image)\n",
    "    \n",
    "    draw.rectangle(box, outline=\"black\", width=2)\n",
    "        \n",
    "    return image\n",
    "\n",
    "def save_images_with_bboxes() -> None:\n",
    "    output_dir = os.path.join(\"data\", \"1_basic_output_imgs\")\n",
    "    \n",
    "    os.makedirs(output_dir, exist_ok=True)\n",
    "    model.eval()\n",
    "\n",
    "    with torch.no_grad():\n",
    "        for idx, (images, targets) in enumerate(test_loader):\n",
    "            images = images.to(device)\n",
    "            outputs = model(images)\n",
    "\n",
    "            for i in range(images.size(0)):\n",
    "                image_tensor = images[i].cpu()\n",
    "                image = to_pil_image(image_tensor)\n",
    "                filename = dataset.get_filename(idx * images.size(0) + i)\n",
    "                predicted_box = outputs[i].cpu().tolist()\n",
    "                predicted_box = [int(num) for num in predicted_box]\n",
    "                image_with_box = draw_bounding_boxes(image, predicted_box)\n",
    "\n",
    "                image_with_box.save(os.path.join(output_dir, filename))\n",
    "\n",
    "        print(f\"Images with bounding boxes have been saved to {output_dir}\")\n",
    "\n",
    "save_images_with_bboxes()"
   ],
   "id": "248e5b3005e0dec6",
   "outputs": [
    {
     "name": "stdout",
     "output_type": "stream",
     "text": [
      "Images with bounding boxes have been saved to data\\1_basic_output_imgs\n"
     ]
    }
   ],
   "execution_count": 29
  },
  {
   "metadata": {},
   "cell_type": "code",
   "outputs": [],
   "execution_count": null,
   "source": "",
   "id": "37e8989fcb7b90d3"
  }
 ],
 "metadata": {
  "kernelspec": {
   "display_name": "Python [conda env:.conda-bounding_box_detection_ham10000_torch] *",
   "language": "python",
   "name": "conda-env-.conda-bounding_box_detection_ham10000_torch-py"
  },
  "language_info": {
   "codemirror_mode": {
    "name": "ipython",
    "version": 3
   },
   "file_extension": ".py",
   "mimetype": "text/x-python",
   "name": "python",
   "nbconvert_exporter": "python",
   "pygments_lexer": "ipython3",
   "version": "3.11.9"
  }
 },
 "nbformat": 4,
 "nbformat_minor": 5
}

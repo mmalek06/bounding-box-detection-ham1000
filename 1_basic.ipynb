{
 "cells": [
  {
   "cell_type": "code",
   "id": "initial_id",
   "metadata": {
    "ExecuteTime": {
     "end_time": "2024-06-22T17:05:09.494825Z",
     "start_time": "2024-06-22T17:05:09.489867Z"
    }
   },
   "source": [
    "import os\n",
    "import torch\n",
    "import torch.nn as nn\n",
    "import torch.optim as optim\n",
    "import torch.nn.functional as F\n",
    "import torchvision.transforms as transforms\n",
    "\n",
    "from torchvision.datasets import CocoDetection\n",
    "from typing import Iterable\n",
    "\n",
    "print(torch.__version__)\n",
    "print(torch.cuda.is_available())"
   ],
   "outputs": [
    {
     "name": "stdout",
     "output_type": "stream",
     "text": [
      "2.3.1\n",
      "True\n"
     ]
    }
   ],
   "execution_count": 24
  },
  {
   "metadata": {
    "ExecuteTime": {
     "end_time": "2024-06-22T17:58:46.614943Z",
     "start_time": "2024-06-22T17:58:46.452333Z"
    }
   },
   "cell_type": "code",
   "source": [
    "transform = transforms.Compose([\n",
    "    transforms.ToTensor()\n",
    "])\n",
    "dataset = CocoDetection(\n",
    "    root=os.path.join(\"data\", \"images\"), \n",
    "    annFile=os.path.join(\"data\", \"coco_annotations.json\"), \n",
    "    transform=transform\n",
    ")\n",
    "train_size = int(0.7 * len(dataset))\n",
    "valid_size = int(0.15 * len(dataset))\n",
    "test_size = len(dataset) - train_size - valid_size\n",
    "train_dataset, valid_dataset, test_dataset = torch.utils.data.random_split(dataset, [train_size, valid_size, test_size])\n",
    "train_loader = torch.utils.data.DataLoader(train_dataset, batch_size=32, shuffle=True, num_workers=4)\n",
    "valid_loader = torch.utils.data.DataLoader(valid_dataset, batch_size=32, shuffle=False, num_workers=4)\n",
    "test_loader = torch.utils.data.DataLoader(test_dataset, batch_size=32, shuffle=False, num_workers=4)\n",
    "device = torch.device(\"cuda\" if torch.cuda.is_available() else \"cpu\")\n",
    "\n",
    "print(device)"
   ],
   "id": "cbd4933e80e1751c",
   "outputs": [
    {
     "name": "stdout",
     "output_type": "stream",
     "text": [
      "loading annotations into memory...\n",
      "Done (t=0.15s)\n",
      "creating index...\n",
      "index created!\n",
      "cuda\n"
     ]
    }
   ],
   "execution_count": 88
  },
  {
   "metadata": {
    "ExecuteTime": {
     "end_time": "2024-06-22T17:58:54.495969Z",
     "start_time": "2024-06-22T17:58:54.488087Z"
    }
   },
   "cell_type": "code",
   "source": [
    "class BoundingBoxModel(nn.Module):\n",
    "    def __init__(self):\n",
    "        super(BoundingBoxModel, self).__init__()\n",
    "        \n",
    "        self.conv1 = nn.Conv2d(3, 16, kernel_size=3, stride=1, padding=1)\n",
    "        self.pool = nn.MaxPool2d(kernel_size=2, stride=2, padding=0)\n",
    "        self.conv2 = nn.Conv2d(16, 32, kernel_size=3, stride=1, padding=1)\n",
    "        self.conv3 = nn.Conv2d(32, 64, kernel_size=3, stride=1, padding=1)\n",
    "        self.fc1 = self._initialize_fc1()\n",
    "        self.fc2 = nn.Linear(128, 4)\n",
    "\n",
    "    def forward(self, x: torch.Tensor) -> torch.Tensor:\n",
    "        x = self._run_first_layers(x)\n",
    "        x = F.relu(self.fc1(x))\n",
    "        x = self.fc2(x)\n",
    "        \n",
    "        return x\n",
    "\n",
    "    def _initialize_fc1(self) -> nn.Linear:\n",
    "        with torch.no_grad():\n",
    "            dummy_input = torch.zeros(1, 3, 150, 200)\n",
    "            x = self._run_first_layers(dummy_input)\n",
    "            input_size = x.size(1)\n",
    "            \n",
    "            return nn.Linear(input_size, 128)\n",
    "        \n",
    "    def _run_first_layers(self, x: torch.Tensor) -> torch.Tensor:\n",
    "        x = self.pool(F.relu(self.conv1(x)))\n",
    "        x = self.pool(F.relu(self.conv2(x)))\n",
    "        x = self.pool(F.relu(self.conv3(x)))\n",
    "        x = x.view(-1, x.size(1) * x.size(2) * x.size(3))\n",
    "        \n",
    "        return x"
   ],
   "id": "1916a158db53d9c4",
   "outputs": [],
   "execution_count": 89
  },
  {
   "metadata": {
    "ExecuteTime": {
     "end_time": "2024-06-22T17:59:05.140055Z",
     "start_time": "2024-06-22T17:59:02.141909Z"
    }
   },
   "cell_type": "code",
   "source": [
    "def extract_bboxes(targets: list[dict]) -> list[torch.Tensor]:\n",
    "    bboxes = []\n",
    "    \n",
    "    for target in targets:\n",
    "        xs, ys, widths, heights = target[\"bbox\"]\n",
    "    \n",
    "        for idx, _ in enumerate(xs):\n",
    "            x1, y1, width, height = xs[idx], ys[idx], widths[idx], heights[idx]\n",
    "            # Convert COCO format (x, y, width, height) to (x1, y1, x2, y2)\n",
    "            x2, y2 = x1 + width, y1 + height\n",
    "    \n",
    "            bboxes.append(torch.IntTensor([x1, y1, x2, y2]))\n",
    "\n",
    "    return bboxes\n",
    "\n",
    "\n",
    "model = BoundingBoxModel().to(device)\n",
    "criterion = nn.SmoothL1Loss()\n",
    "optimizer = optim.Adam(model.parameters(), lr=0.001)"
   ],
   "id": "a21c004fab324886",
   "outputs": [],
   "execution_count": 90
  },
  {
   "metadata": {
    "ExecuteTime": {
     "end_time": "2024-06-22T18:00:38.526320Z",
     "start_time": "2024-06-22T17:59:59.595383Z"
    }
   },
   "cell_type": "code",
   "source": [
    "num_epochs = 25\n",
    "\n",
    "for epoch in range(num_epochs):\n",
    "    model.train()\n",
    "    running_loss = 0.0\n",
    "    \n",
    "    for images, targets in train_loader:\n",
    "        images = images.to(device)\n",
    "        bboxes = extract_bboxes(targets)\n",
    "        bboxes = torch.stack(bboxes).to(device)\n",
    "\n",
    "        optimizer.zero_grad()\n",
    "\n",
    "        outputs = model(images)\n",
    "        loss = criterion(outputs, bboxes)\n",
    "\n",
    "        loss.backward()\n",
    "        optimizer.step()\n",
    "\n",
    "        running_loss += loss.item()\n",
    "\n",
    "    print(f\"Epoch {epoch + 1}, Loss: {running_loss / len(train_loader)}\")\n",
    "\n",
    "    model.eval()\n",
    "\n",
    "    val_loss = 0.0\n",
    "\n",
    "    with torch.no_grad():\n",
    "        for images, targets in valid_loader:\n",
    "            images = images.to(device)\n",
    "            bboxes = [extract_bboxes(target) for target in targets]\n",
    "            bboxes = torch.stack(bboxes).to(device)\n",
    "            outputs = model(images)\n",
    "            loss = criterion(outputs, bboxes)\n",
    "            val_loss += loss.item()\n",
    "\n",
    "    print(f\"Validation Loss: {val_loss / len(valid_loader)}\")\n",
    "\n",
    "print(\"Training complete\")"
   ],
   "id": "50a1c15dc6c5dbb8",
   "outputs": [
    {
     "name": "stdout",
     "output_type": "stream",
     "text": [
      "Epoch 1, Loss: 19.600274926965888\n"
     ]
    },
    {
     "ename": "TypeError",
     "evalue": "string indices must be integers, not 'str'",
     "output_type": "error",
     "traceback": [
      "\u001B[1;31m---------------------------------------------------------------------------\u001B[0m",
      "\u001B[1;31mTypeError\u001B[0m                                 Traceback (most recent call last)",
      "Cell \u001B[1;32mIn[91], line 31\u001B[0m\n\u001B[0;32m     29\u001B[0m \u001B[38;5;28;01mfor\u001B[39;00m images, targets \u001B[38;5;129;01min\u001B[39;00m valid_loader:\n\u001B[0;32m     30\u001B[0m     images \u001B[38;5;241m=\u001B[39m images\u001B[38;5;241m.\u001B[39mto(device)\n\u001B[1;32m---> 31\u001B[0m     bboxes \u001B[38;5;241m=\u001B[39m \u001B[43m[\u001B[49m\u001B[43mextract_bboxes\u001B[49m\u001B[43m(\u001B[49m\u001B[43mtarget\u001B[49m\u001B[43m)\u001B[49m\u001B[43m \u001B[49m\u001B[38;5;28;43;01mfor\u001B[39;49;00m\u001B[43m \u001B[49m\u001B[43mtarget\u001B[49m\u001B[43m \u001B[49m\u001B[38;5;129;43;01min\u001B[39;49;00m\u001B[43m \u001B[49m\u001B[43mtargets\u001B[49m\u001B[43m]\u001B[49m\n\u001B[0;32m     32\u001B[0m     bboxes \u001B[38;5;241m=\u001B[39m torch\u001B[38;5;241m.\u001B[39mstack(bboxes)\u001B[38;5;241m.\u001B[39mto(device)\n\u001B[0;32m     33\u001B[0m     outputs \u001B[38;5;241m=\u001B[39m model(images)\n",
      "Cell \u001B[1;32mIn[91], line 31\u001B[0m, in \u001B[0;36m<listcomp>\u001B[1;34m(.0)\u001B[0m\n\u001B[0;32m     29\u001B[0m \u001B[38;5;28;01mfor\u001B[39;00m images, targets \u001B[38;5;129;01min\u001B[39;00m valid_loader:\n\u001B[0;32m     30\u001B[0m     images \u001B[38;5;241m=\u001B[39m images\u001B[38;5;241m.\u001B[39mto(device)\n\u001B[1;32m---> 31\u001B[0m     bboxes \u001B[38;5;241m=\u001B[39m [\u001B[43mextract_bboxes\u001B[49m\u001B[43m(\u001B[49m\u001B[43mtarget\u001B[49m\u001B[43m)\u001B[49m \u001B[38;5;28;01mfor\u001B[39;00m target \u001B[38;5;129;01min\u001B[39;00m targets]\n\u001B[0;32m     32\u001B[0m     bboxes \u001B[38;5;241m=\u001B[39m torch\u001B[38;5;241m.\u001B[39mstack(bboxes)\u001B[38;5;241m.\u001B[39mto(device)\n\u001B[0;32m     33\u001B[0m     outputs \u001B[38;5;241m=\u001B[39m model(images)\n",
      "Cell \u001B[1;32mIn[90], line 5\u001B[0m, in \u001B[0;36mextract_bboxes\u001B[1;34m(targets)\u001B[0m\n\u001B[0;32m      2\u001B[0m bboxes \u001B[38;5;241m=\u001B[39m []\n\u001B[0;32m      4\u001B[0m \u001B[38;5;28;01mfor\u001B[39;00m target \u001B[38;5;129;01min\u001B[39;00m targets:\n\u001B[1;32m----> 5\u001B[0m     xs, ys, widths, heights \u001B[38;5;241m=\u001B[39m \u001B[43mtarget\u001B[49m\u001B[43m[\u001B[49m\u001B[38;5;124;43m\"\u001B[39;49m\u001B[38;5;124;43mbbox\u001B[39;49m\u001B[38;5;124;43m\"\u001B[39;49m\u001B[43m]\u001B[49m\n\u001B[0;32m      7\u001B[0m     \u001B[38;5;28;01mfor\u001B[39;00m idx, _ \u001B[38;5;129;01min\u001B[39;00m \u001B[38;5;28menumerate\u001B[39m(xs):\n\u001B[0;32m      8\u001B[0m         x1, y1, width, height \u001B[38;5;241m=\u001B[39m xs[idx], ys[idx], widths[idx], heights[idx]\n",
      "\u001B[1;31mTypeError\u001B[0m: string indices must be integers, not 'str'"
     ]
    }
   ],
   "execution_count": 91
  },
  {
   "metadata": {},
   "cell_type": "code",
   "outputs": [],
   "execution_count": null,
   "source": "",
   "id": "f4cdaf0c7ba069d9"
  }
 ],
 "metadata": {
  "kernelspec": {
   "display_name": "Python [conda env:.conda-bounding_box_detection_ham10000_torch] *",
   "language": "python",
   "name": "conda-env-.conda-bounding_box_detection_ham10000_torch-py"
  },
  "language_info": {
   "codemirror_mode": {
    "name": "ipython",
    "version": 3
   },
   "file_extension": ".py",
   "mimetype": "text/x-python",
   "name": "python",
   "nbconvert_exporter": "python",
   "pygments_lexer": "ipython3",
   "version": "3.11.9"
  }
 },
 "nbformat": 4,
 "nbformat_minor": 5
}

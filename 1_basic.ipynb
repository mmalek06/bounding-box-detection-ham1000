{
 "cells": [
  {
   "cell_type": "code",
   "execution_count": 1,
   "id": "initial_id",
   "metadata": {
    "ExecuteTime": {
     "end_time": "2024-07-05T04:24:09.577895Z",
     "start_time": "2024-07-05T04:24:00.585291Z"
    },
    "execution": {
     "iopub.execute_input": "2024-07-05T20:22:50.505450Z",
     "iopub.status.busy": "2024-07-05T20:22:50.505450Z",
     "iopub.status.idle": "2024-07-05T20:22:54.474864Z",
     "shell.execute_reply": "2024-07-05T20:22:54.473856Z"
    }
   },
   "outputs": [
    {
     "name": "stdout",
     "output_type": "stream",
     "text": [
      "2.3.1\n",
      "True\n"
     ]
    }
   ],
   "source": [
    "import os\n",
    "import torch\n",
    "import torch.nn as nn\n",
    "import torch.optim as optim\n",
    "\n",
    "from tqdm import tqdm\n",
    "\n",
    "from architectures.basic import BoundingBoxModel\n",
    "from functions.datasets import get_loaders\n",
    "from functions.loop_management import EarlyStopping\n",
    "from functions.mapping import extract_bboxes\n",
    "from functions.plotting import plot_losses\n",
    "\n",
    "print(torch.__version__)\n",
    "print(torch.cuda.is_available())"
   ]
  },
  {
   "cell_type": "code",
   "execution_count": 2,
   "id": "cbd4933e80e1751c",
   "metadata": {
    "ExecuteTime": {
     "end_time": "2024-06-27T05:54:48.852459Z",
     "start_time": "2024-06-27T05:54:48.704776Z"
    },
    "execution": {
     "iopub.execute_input": "2024-07-05T20:22:54.477891Z",
     "iopub.status.busy": "2024-07-05T20:22:54.477891Z",
     "iopub.status.idle": "2024-07-05T20:22:54.614731Z",
     "shell.execute_reply": "2024-07-05T20:22:54.614731Z"
    }
   },
   "outputs": [
    {
     "name": "stdout",
     "output_type": "stream",
     "text": [
      "loading annotations into memory...\n",
      "Done (t=0.12s)\n",
      "creating index...\n",
      "index created!\n",
      "cuda\n"
     ]
    }
   ],
   "source": [
    "RUN_NUMBER = os.environ[\"RUN_NUMBER\"]\n",
    "dataset, train_loader, valid_loader = get_loaders(\n",
    "    os.path.join(\"data\", \"train_images\"),\n",
    "    os.path.join(\"data\", \"train_coco_annotations.json\")\n",
    ")\n",
    "device = torch.device(\"cuda\" if torch.cuda.is_available() else \"cpu\")\n",
    "\n",
    "print(device)"
   ]
  },
  {
   "cell_type": "code",
   "execution_count": 3,
   "id": "a21c004fab324886",
   "metadata": {
    "ExecuteTime": {
     "end_time": "2024-06-27T05:54:50.993465Z",
     "start_time": "2024-06-27T05:54:48.862054Z"
    },
    "execution": {
     "iopub.execute_input": "2024-07-05T20:22:54.618767Z",
     "iopub.status.busy": "2024-07-05T20:22:54.618767Z",
     "iopub.status.idle": "2024-07-05T20:22:56.662274Z",
     "shell.execute_reply": "2024-07-05T20:22:56.661234Z"
    }
   },
   "outputs": [],
   "source": [
    "model = BoundingBoxModel().to(device)\n",
    "criterion = nn.SmoothL1Loss()\n",
    "optimizer = optim.Adam(model.parameters(), lr=0.001)"
   ]
  },
  {
   "cell_type": "code",
   "id": "50a1c15dc6c5dbb8",
   "metadata": {
    "execution": {
     "iopub.execute_input": "2024-07-05T20:22:56.665266Z",
     "iopub.status.busy": "2024-07-05T20:22:56.665266Z",
     "iopub.status.idle": "2024-07-05T20:33:05.883800Z",
     "shell.execute_reply": "2024-07-05T20:33:05.883800Z"
    }
   },
   "source": [
    "early_stopping = EarlyStopping(patience=7, verbose=True)\n",
    "num_epochs = 25\n",
    "train_losses = []\n",
    "val_losses = []\n",
    "\n",
    "for epoch in range(num_epochs):\n",
    "    model.train()\n",
    "    running_loss = 0.0\n",
    "\n",
    "    train_loader_tqdm = tqdm(train_loader, desc=f\"Epoch {epoch + 1}/{num_epochs} - Training\")\n",
    "\n",
    "    for images, targets in train_loader_tqdm:\n",
    "        images = images.to(device)\n",
    "        bboxes = extract_bboxes(targets)\n",
    "        bboxes = torch.stack(bboxes).to(device)\n",
    "\n",
    "        optimizer.zero_grad(set_to_none=True)\n",
    "\n",
    "        outputs = model(images)\n",
    "        loss = criterion(outputs, bboxes)\n",
    "\n",
    "        loss.backward()\n",
    "        optimizer.step()\n",
    "\n",
    "        running_loss += loss.item()\n",
    "        \n",
    "        train_loader_tqdm.set_postfix({\"Train Loss\": running_loss / len(train_loader)})\n",
    "\n",
    "    epoch_train_loss = running_loss / len(train_loader)\n",
    "\n",
    "    train_losses.append(epoch_train_loss)\n",
    "    print(f\"Epoch {epoch + 1}, Loss: {epoch_train_loss}\")\n",
    "    model.eval()\n",
    "\n",
    "    val_loss = 0.0\n",
    "    valid_loader_tqdm = tqdm(valid_loader, desc=f\"Epoch {epoch + 1}/{num_epochs} - Validation\")\n",
    "    \n",
    "    with torch.no_grad():\n",
    "        for images, targets in valid_loader_tqdm:\n",
    "            images = images.to(device)\n",
    "            bboxes = extract_bboxes(targets)\n",
    "            bboxes = torch.stack(bboxes).to(device)\n",
    "            outputs = model(images)\n",
    "            loss = criterion(outputs, bboxes)\n",
    "            val_loss += loss.item()\n",
    "            \n",
    "            valid_loader_tqdm.set_postfix({\"Val Loss\": val_loss / len(valid_loader)})\n",
    "\n",
    "    epoch_val_loss = val_loss / len(valid_loader)\n",
    "    \n",
    "    val_losses.append(epoch_val_loss)\n",
    "    print(f\"Validation Loss: {epoch_val_loss}\")\n",
    "\n",
    "    early_stopping(\n",
    "        epoch_val_loss,\n",
    "        model,\n",
    "        path=os.path.join(\"checkpoints\", f\"checkpoint_1_bigger_basic_run_{RUN_NUMBER}.pt\")\n",
    "    )\n",
    "\n",
    "    if early_stopping.early_stop:\n",
    "        print(\"Early stopping\")\n",
    "        break\n",
    "\n",
    "print(\"Training complete\")"
   ],
   "outputs": [],
   "execution_count": null
  },
  {
   "cell_type": "code",
   "execution_count": 5,
   "id": "f4cdaf0c7ba069d9",
   "metadata": {
    "ExecuteTime": {
     "end_time": "2024-06-27T06:05:38.921641Z",
     "start_time": "2024-06-27T06:05:38.684209Z"
    },
    "execution": {
     "iopub.execute_input": "2024-07-05T20:33:05.887841Z",
     "iopub.status.busy": "2024-07-05T20:33:05.887841Z",
     "iopub.status.idle": "2024-07-05T20:33:06.084113Z",
     "shell.execute_reply": "2024-07-05T20:33:06.083606Z"
    }
   },
   "outputs": [
    {
     "name": "stderr",
     "output_type": "stream",
     "text": [
      "C:\\Users\\mmale\\.conda\\envs\\bounding_box_detection_ham10000_torch\\Lib\\site-packages\\seaborn\\_oldcore.py:1498: FutureWarning: is_categorical_dtype is deprecated and will be removed in a future version. Use isinstance(dtype, CategoricalDtype) instead\n",
      "  if pd.api.types.is_categorical_dtype(vector):\n",
      "C:\\Users\\mmale\\.conda\\envs\\bounding_box_detection_ham10000_torch\\Lib\\site-packages\\seaborn\\_oldcore.py:1498: FutureWarning: is_categorical_dtype is deprecated and will be removed in a future version. Use isinstance(dtype, CategoricalDtype) instead\n",
      "  if pd.api.types.is_categorical_dtype(vector):\n",
      "C:\\Users\\mmale\\.conda\\envs\\bounding_box_detection_ham10000_torch\\Lib\\site-packages\\seaborn\\_oldcore.py:1119: FutureWarning: use_inf_as_na option is deprecated and will be removed in a future version. Convert inf values to NaN before operating instead.\n",
      "  with pd.option_context('mode.use_inf_as_na', True):\n",
      "C:\\Users\\mmale\\.conda\\envs\\bounding_box_detection_ham10000_torch\\Lib\\site-packages\\seaborn\\_oldcore.py:1119: FutureWarning: use_inf_as_na option is deprecated and will be removed in a future version. Convert inf values to NaN before operating instead.\n",
      "  with pd.option_context('mode.use_inf_as_na', True):\n",
      "C:\\Users\\mmale\\.conda\\envs\\bounding_box_detection_ham10000_torch\\Lib\\site-packages\\seaborn\\_oldcore.py:1498: FutureWarning: is_categorical_dtype is deprecated and will be removed in a future version. Use isinstance(dtype, CategoricalDtype) instead\n",
      "  if pd.api.types.is_categorical_dtype(vector):\n",
      "C:\\Users\\mmale\\.conda\\envs\\bounding_box_detection_ham10000_torch\\Lib\\site-packages\\seaborn\\_oldcore.py:1498: FutureWarning: is_categorical_dtype is deprecated and will be removed in a future version. Use isinstance(dtype, CategoricalDtype) instead\n",
      "  if pd.api.types.is_categorical_dtype(vector):\n",
      "C:\\Users\\mmale\\.conda\\envs\\bounding_box_detection_ham10000_torch\\Lib\\site-packages\\seaborn\\_oldcore.py:1119: FutureWarning: use_inf_as_na option is deprecated and will be removed in a future version. Convert inf values to NaN before operating instead.\n",
      "  with pd.option_context('mode.use_inf_as_na', True):\n",
      "C:\\Users\\mmale\\.conda\\envs\\bounding_box_detection_ham10000_torch\\Lib\\site-packages\\seaborn\\_oldcore.py:1119: FutureWarning: use_inf_as_na option is deprecated and will be removed in a future version. Convert inf values to NaN before operating instead.\n",
      "  with pd.option_context('mode.use_inf_as_na', True):\n"
     ]
    },
    {
     "data": {
      "image/png": "[encoded data removed]",
      "text/plain": [
       "<Figure size 1000x500 with 1 Axes>"
      ]
     },
     "metadata": {},
     "output_type": "display_data"
    }
   ],
   "source": [
    "plot_losses(num_epochs, train_losses, val_losses)"
   ]
  },
  {
   "cell_type": "code",
   "execution_count": null,
   "id": "332f612466fa267f",
   "metadata": {},
   "outputs": [],
   "source": []
  }
 ],
 "metadata": {
  "kernelspec": {
   "display_name": "Python [conda env:.conda-bounding_box_detection_ham10000_torch] *",
   "language": "python",
   "name": "conda-env-.conda-bounding_box_detection_ham10000_torch-py"
  },
  "language_info": {
   "codemirror_mode": {
    "name": "ipython",
    "version": 3
   },
   "file_extension": ".py",
   "mimetype": "text/x-python",
   "name": "python",
   "nbconvert_exporter": "python",
   "pygments_lexer": "ipython3",
   "version": "3.11.9"
  }
 },
 "nbformat": 4,
 "nbformat_minor": 5
}

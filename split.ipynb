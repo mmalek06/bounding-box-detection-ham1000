{
 "cells": [
  {
   "cell_type": "code",
   "id": "initial_id",
   "metadata": {
    "ExecuteTime": {
     "end_time": "2024-06-27T05:18:11.415147Z",
     "start_time": "2024-06-27T05:18:11.408180Z"
    }
   },
   "source": [
    "import os\n",
    "import shutil\n",
    "import random"
   ],
   "outputs": [],
   "execution_count": 1
  },
  {
   "metadata": {
    "ExecuteTime": {
     "end_time": "2024-06-27T05:18:37.538548Z",
     "start_time": "2024-06-27T05:18:37.531600Z"
    }
   },
   "cell_type": "code",
   "source": [
    "def create_folder_if_not_exists(folder_path: str) -> None:\n",
    "    if not os.path.exists(folder_path):\n",
    "        os.makedirs(folder_path)\n",
    "\n",
    "\n",
    "def split_files(src_folder: str, test_folder: str, train_folder: str, test_ratio: float = 0.15) -> None:\n",
    "    create_folder_if_not_exists(test_folder)\n",
    "    create_folder_if_not_exists(train_folder)\n",
    "    all_files = [f for f in os.listdir(src_folder) if os.path.isfile(os.path.join(src_folder, f))]\n",
    "    random.shuffle(all_files)\n",
    "    num_test_files = int(len(all_files) * test_ratio)\n",
    "    test_files = all_files[:num_test_files]\n",
    "    train_files = all_files[num_test_files:]\n",
    "\n",
    "    for file_name in test_files:\n",
    "        shutil.copy(os.path.join(src_folder, file_name), os.path.join(test_folder, file_name))\n",
    "\n",
    "    for file_name in train_files:\n",
    "        shutil.move(os.path.join(src_folder, file_name), os.path.join(train_folder, file_name))"
   ],
   "id": "cbd4933e80e1751c",
   "outputs": [],
   "execution_count": 2
  },
  {
   "metadata": {
    "ExecuteTime": {
     "end_time": "2024-06-27T05:19:29.092414Z",
     "start_time": "2024-06-27T05:19:24.964423Z"
    }
   },
   "cell_type": "code",
   "source": [
    "src_folder = os.path.join(\"data\", \"images\")\n",
    "test_folder = os.path.join(\"data\", \"test_images\")\n",
    "train_folder = os.path.join(\"data\", \"train_images\")\n",
    "\n",
    "split_files(src_folder, test_folder, train_folder)"
   ],
   "id": "332f612466fa267f",
   "outputs": [],
   "execution_count": 3
  },
  {
   "metadata": {},
   "cell_type": "code",
   "outputs": [],
   "execution_count": null,
   "source": "",
   "id": "cebc8bca35be5490"
  }
 ],
 "metadata": {
  "kernelspec": {
   "display_name": "Python [conda env:.conda-bounding_box_detection_ham10000_torch] *",
   "language": "python",
   "name": "conda-env-.conda-bounding_box_detection_ham10000_torch-py"
  },
  "language_info": {
   "codemirror_mode": {
    "name": "ipython",
    "version": 3
   },
   "file_extension": ".py",
   "mimetype": "text/x-python",
   "name": "python",
   "nbconvert_exporter": "python",
   "pygments_lexer": "ipython3",
   "version": "3.11.9"
  }
 },
 "nbformat": 4,
 "nbformat_minor": 5
}

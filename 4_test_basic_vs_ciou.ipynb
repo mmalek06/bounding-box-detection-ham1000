{
 "cells": [
  {
   "cell_type": "code",
   "id": "initial_id",
   "metadata": {
    "collapsed": true,
    "ExecuteTime": {
     "end_time": "2024-07-11T15:04:06.366417Z",
     "start_time": "2024-07-11T15:03:57.798911Z"
    }
   },
   "source": [
    "import json\n",
    "import os\n",
    "import torch\n",
    "import torch.nn as nn\n",
    "import torchvision.transforms as transforms\n",
    "\n",
    "from torchvision.datasets import CocoDetection\n",
    "\n",
    "from architectures.basic import BoundingBoxModel as BasicBoundingBoxModel\n",
    "from architectures.bigger_basic import BoundingBoxModel as BiggerBasicBoundingBoxModel\n",
    "from functions.losses import CIoULoss\n",
    "from functions.mapping import extract_bboxes\n",
    "\n",
    "print(torch.__version__)\n",
    "print(torch.cuda.is_available())"
   ],
   "outputs": [
    {
     "name": "stdout",
     "output_type": "stream",
     "text": [
      "2.3.1\n",
      "True\n"
     ]
    }
   ],
   "execution_count": 1
  },
  {
   "metadata": {
    "ExecuteTime": {
     "end_time": "2024-07-11T15:10:30.704098Z",
     "start_time": "2024-07-11T15:10:30.686171Z"
    }
   },
   "cell_type": "code",
   "source": [
    "root = os.path.join(\"data\", \"test_images\")\n",
    "ann_file = os.path.join(\"data\", \"test_coco_annotations.json\")\n",
    "transform = transforms.Compose([\n",
    "    transforms.ToTensor()\n",
    "])\n",
    "dataset = CocoDetection(\n",
    "    root=root,\n",
    "    annFile=ann_file,\n",
    "    transform=transform\n",
    ")\n",
    "test_loader = torch.utils.data.DataLoader(\n",
    "    dataset,\n",
    "    batch_size=32,\n",
    "    shuffle=False,\n",
    "    num_workers=2,\n",
    "    pin_memory=True,\n",
    "    prefetch_factor=16\n",
    ")\n",
    "device = torch.device(\"cuda\" if torch.cuda.is_available() else \"cpu\")\n",
    "\n",
    "print(device)"
   ],
   "id": "8f15d136e78af2cd",
   "outputs": [
    {
     "name": "stdout",
     "output_type": "stream",
     "text": [
      "loading annotations into memory...\n",
      "Done (t=0.01s)\n",
      "creating index...\n",
      "index created!\n",
      "cuda\n"
     ]
    }
   ],
   "execution_count": 9
  },
  {
   "metadata": {
    "ExecuteTime": {
     "end_time": "2024-07-11T15:05:05.095288Z",
     "start_time": "2024-07-11T15:05:05.091029Z"
    }
   },
   "cell_type": "code",
   "source": [
    "variations = {\n",
    "    \"1\": BasicBoundingBoxModel,\n",
    "    \"2\": BiggerBasicBoundingBoxModel,\n",
    "    \"3\": BiggerBasicBoundingBoxModel\n",
    "}\n",
    "model_metrics = {\n",
    "    \"1\": [],\n",
    "    \"2\": [],\n",
    "    \"3\": []\n",
    "}"
   ],
   "id": "aa5fe21f375099d9",
   "outputs": [],
   "execution_count": 4
  },
  {
   "metadata": {
    "ExecuteTime": {
     "end_time": "2024-07-11T06:53:28.680856Z",
     "start_time": "2024-07-11T06:45:26.292658Z"
    }
   },
   "cell_type": "code",
   "source": [
    "with torch.no_grad():\n",
    "    for filename in os.listdir(\"checkpoints\"):\n",
    "        if filename.endswith(\".pt\"):\n",
    "            parts = filename.split(\"_\")\n",
    "            model_variation = parts[1]\n",
    "            run_index = parts[5].split(\".\")[0]\n",
    "            model_path = os.path.join(\"checkpoints\", filename)\n",
    "            model = variations[model_variation]().to(device)\n",
    "            smooth_l1_loss_f = nn.SmoothL1Loss()\n",
    "            ciou_loss_f = CIoULoss()\n",
    "            \n",
    "            model.load_state_dict(torch.load(model_path, map_location=device))\n",
    "        \n",
    "            metrics = []\n",
    "            \n",
    "            for data in test_loader:\n",
    "                inputs, true_boxes = data\n",
    "                true_boxes = torch.stack(extract_bboxes(true_boxes)).to(device)\n",
    "                inputs = inputs.to(device)\n",
    "                pred_boxes = model(inputs)\n",
    "                l1_metric = smooth_l1_loss_f(pred_boxes, true_boxes)\n",
    "                ciou_loss = ciou_loss_f(pred_boxes, true_boxes)\n",
    "        \n",
    "                metrics.append((l1_metric, ciou_loss))\n",
    "\n",
    "            mean_l1_metric = sum(map(lambda x: x[0], metrics)) / len(metrics)\n",
    "            mean_ciou_metric = sum(map(lambda x: x[1], metrics)) / len(metrics)\n",
    "\n",
    "            model_metrics[model_variation].append((mean_l1_metric, mean_ciou_metric))"
   ],
   "id": "696d78f0cf2304ab",
   "outputs": [],
   "execution_count": 29
  },
  {
   "metadata": {
    "ExecuteTime": {
     "end_time": "2024-07-11T07:10:04.133980Z",
     "start_time": "2024-07-11T07:10:04.124067Z"
    }
   },
   "cell_type": "code",
   "source": [
    "best_variations = {\n",
    "    \"1\": [],\n",
    "    \"2\": [],\n",
    "    \"3\": []\n",
    "}\n",
    "\n",
    "for key, tensors in model_metrics.items():\n",
    "    l1_items = list(map(lambda x: x[0].item(), tensors))\n",
    "    ciou_items = list(map(lambda x: x[1].item(), tensors))\n",
    "    min_l1 = min(l1_items)\n",
    "    min_ciou = min(ciou_items)\n",
    "    min_l1_idx = l1_items.index(min_l1)\n",
    "    min_ciou_idx = ciou_items.index(min_ciou)\n",
    "    variation_number_l1 = min_l1_idx + 1\n",
    "    variation_number_ciou = min_ciou_idx + 1\n",
    "    \n",
    "    best_variations[key].append((variation_number_l1, variation_number_ciou))\n",
    "\n",
    "with open(os.path.join(\"testing_steps\", \"best_variations.json\"), \"w\") as json_file:\n",
    "    json.dump(best_variations, json_file)"
   ],
   "id": "4e332ca3bd73228f",
   "outputs": [],
   "execution_count": 37
  },
  {
   "metadata": {
    "ExecuteTime": {
     "end_time": "2024-07-11T15:04:44.990023Z",
     "start_time": "2024-07-11T15:04:44.984568Z"
    }
   },
   "cell_type": "code",
   "source": [
    "if os.path.exists(os.path.join(\"testing_steps\", \"best_variations.json\")):\n",
    "    with open(os.path.join(\"testing_steps\", \"best_variations.json\"), \"r\") as json_file:\n",
    "        best_variations = json.load(json_file) "
   ],
   "id": "d0e6018990ff3551",
   "outputs": [],
   "execution_count": 3
  },
  {
   "metadata": {
    "ExecuteTime": {
     "end_time": "2024-07-11T15:11:07.474995Z",
     "start_time": "2024-07-11T15:11:06.793841Z"
    }
   },
   "cell_type": "code",
   "source": [
    "materialized_variations = []\n",
    "\n",
    "for key, variation_numbers in best_variations.items():\n",
    "    model_cls = variations[key]\n",
    "\n",
    "    for filename in os.listdir(\"checkpoints\"):\n",
    "        for variation_number in variation_numbers[0]:\n",
    "            if filename.startswith(f\"checkpoint_{key}\") and filename.endswith(f\"_run_{variation_number}.pt\"):\n",
    "                model = model_cls().to(device)\n",
    "                model_path = os.path.join(\"checkpoints\", filename)\n",
    "                \n",
    "                model.load_state_dict(torch.load(model_path, map_location=device))\n",
    "                materialized_variations.append((model, key, variation_number))  "
   ],
   "id": "7500aa9ab0e8f947",
   "outputs": [],
   "execution_count": 12
  },
  {
   "metadata": {
    "ExecuteTime": {
     "end_time": "2024-07-11T15:08:43.493444Z",
     "start_time": "2024-07-11T15:08:43.489930Z"
    }
   },
   "cell_type": "code",
   "source": "",
   "id": "ff39e499cf53e510",
   "outputs": [],
   "execution_count": 5
  },
  {
   "metadata": {},
   "cell_type": "code",
   "outputs": [],
   "execution_count": null,
   "source": "",
   "id": "6a96aee433dbf771"
  }
 ],
 "metadata": {
  "kernelspec": {
   "display_name": "Python [conda env:.conda-bounding_box_detection_ham10000_torch] *",
   "language": "python",
   "name": "conda-env-.conda-bounding_box_detection_ham10000_torch-py"
  },
  "language_info": {
   "codemirror_mode": {
    "name": "ipython",
    "version": 2
   },
   "file_extension": ".py",
   "mimetype": "text/x-python",
   "name": "python",
   "nbconvert_exporter": "python",
   "pygments_lexer": "ipython2",
   "version": "2.7.6"
  }
 },
 "nbformat": 4,
 "nbformat_minor": 5
}

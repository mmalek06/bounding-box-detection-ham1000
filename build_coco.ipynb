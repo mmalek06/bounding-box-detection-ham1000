{
 "cells": [
  {
   "cell_type": "code",
   "id": "initial_id",
   "metadata": {
    "ExecuteTime": {
     "end_time": "2024-06-27T05:50:11.687599Z",
     "start_time": "2024-06-27T05:50:11.191246Z"
    }
   },
   "source": [
    "from PIL import Image\n",
    "\n",
    "import pandas as pd\n",
    "import json\n",
    "import os"
   ],
   "outputs": [],
   "execution_count": 1
  },
  {
   "metadata": {
    "ExecuteTime": {
     "end_time": "2024-06-27T05:54:16.431913Z",
     "start_time": "2024-06-27T05:54:16.427156Z"
    }
   },
   "cell_type": "code",
   "source": [
    "def get_coco_tpl() -> dict:\n",
    "    return {\n",
    "        \"info\": {\n",
    "            \"description\": \"HAM10000 Dataset\",\n",
    "            \"url\": \"\",\n",
    "            \"version\": \"1.0\",\n",
    "            \"year\": 2024,\n",
    "            \"contributor\": \"\",\n",
    "            \"date_created\": \"\"\n",
    "        },\n",
    "        \"licenses\": [\n",
    "            {\n",
    "                \"id\": 1,\n",
    "                \"name\": \"\",\n",
    "                \"url\": \"\"\n",
    "            }\n",
    "        ],\n",
    "        \"images\": [],\n",
    "        \"annotations\": [],\n",
    "        \"categories\": [\n",
    "            {\n",
    "                \"id\": 1,\n",
    "                \"name\": \"lesion\",\n",
    "                \"supercategory\": \"none\"\n",
    "            }\n",
    "        ]\n",
    "    }"
   ],
   "id": "7d94afb1cac14f13",
   "outputs": [],
   "execution_count": 14
  },
  {
   "cell_type": "code",
   "id": "dbb43fd65ce0ba1a",
   "metadata": {
    "ExecuteTime": {
     "end_time": "2024-06-27T05:54:16.856573Z",
     "start_time": "2024-06-27T05:54:16.827443Z"
    }
   },
   "source": [
    "csv_file = os.path.join(\"data\", \"HAM10000_metadata_ext.csv\")\n",
    "df = pd.read_csv(csv_file)"
   ],
   "outputs": [],
   "execution_count": 15
  },
  {
   "cell_type": "code",
   "id": "6e67f08c58889c02",
   "metadata": {
    "ExecuteTime": {
     "end_time": "2024-06-27T05:54:30.259566Z",
     "start_time": "2024-06-27T05:54:30.251640Z"
    }
   },
   "source": [
    "def build_coco(prefix: str) -> None:\n",
    "    images_folder = os.path.join(\"data\", f\"{prefix}_images\")\n",
    "    coco_format = get_coco_tpl()\n",
    "    image_id_mapping = {}\n",
    "    annotation_id = 1\n",
    "    \n",
    "    for index, row in df.iterrows():\n",
    "        image_id = row[\"image_id\"]\n",
    "        image_path = os.path.join(images_folder, f\"{image_id}.jpg\")\n",
    "        \n",
    "        if not os.path.exists(image_path):\n",
    "            continue\n",
    "        \n",
    "        if image_id not in image_id_mapping:\n",
    "            image_id_mapping[image_id] = len(image_id_mapping) + 1\n",
    "            image_entry = {\n",
    "                \"id\": image_id_mapping[image_id],\n",
    "                \"width\": 200,\n",
    "                \"height\": 150,\n",
    "                \"file_name\": f\"{image_id}.jpg\",\n",
    "                \"license\": 1,\n",
    "                \"flickr_url\": \"\",\n",
    "                \"coco_url\": \"\",\n",
    "                \"date_captured\": \"\"\n",
    "            }\n",
    "            \n",
    "            try:\n",
    "                with Image.open(image_path) as img:\n",
    "                    image_entry[\"width\"], image_entry[\"height\"] = img.size\n",
    "            except Exception as e:\n",
    "                print(f\"Error opening image {image_path}: {e}\")\n",
    "\n",
    "            annotation_entry = {\n",
    "                \"id\": annotation_id,\n",
    "                \"image_id\": image_id_mapping[image_id],\n",
    "                \"category_id\": 1,\n",
    "                \"bbox\": [row[\"left\"], row[\"top\"], row[\"right\"] - row[\"left\"], row[\"bottom\"] - row[\"top\"]],\n",
    "                \"area\": (row[\"right\"] - row[\"left\"]) * (row[\"bottom\"] - row[\"top\"]),\n",
    "                \"segmentation\": [],\n",
    "                \"iscrowd\": 0\n",
    "            }\n",
    "            annotation_id += 1\n",
    "            \n",
    "            coco_format[\"annotations\"].append(annotation_entry)\n",
    "            coco_format[\"images\"].append(image_entry)\n",
    "    \n",
    "    print(f\"Entries count: {len(coco_format['annotations'])}\")\n",
    "    \n",
    "    output_file = os.path.join(\"data\", f\"{prefix}_coco_annotations.json\")\n",
    "    \n",
    "    with open(output_file, \"w\") as f:\n",
    "        json.dump(coco_format, f, indent=4)\n",
    "    \n",
    "    print(f\"COCO format annotations saved to {output_file}\")"
   ],
   "outputs": [],
   "execution_count": 16
  },
  {
   "cell_type": "code",
   "id": "98ae7bc7-38aa-456f-9e97-4f9492ded2bb",
   "metadata": {
    "ExecuteTime": {
     "end_time": "2024-06-27T05:54:37.245210Z",
     "start_time": "2024-06-27T05:54:30.418684Z"
    }
   },
   "source": [
    "build_coco(\"train\")\n",
    "build_coco(\"test\")"
   ],
   "outputs": [
    {
     "name": "stdout",
     "output_type": "stream",
     "text": [
      "Entries count: 8513\n",
      "COCO format annotations saved to data\\train_coco_annotations.json\n",
      "Entries count: 1502\n",
      "COCO format annotations saved to data\\test_coco_annotations.json\n"
     ]
    }
   ],
   "execution_count": 17
  },
  {
   "metadata": {},
   "cell_type": "code",
   "outputs": [],
   "execution_count": null,
   "source": "",
   "id": "e9213464e800ea04"
  }
 ],
 "metadata": {
  "kernelspec": {
   "display_name": "Python [conda env:.conda-bounding_box_detection_ham10000_torch] *",
   "language": "python",
   "name": "conda-env-.conda-bounding_box_detection_ham10000_torch-py"
  },
  "language_info": {
   "codemirror_mode": {
    "name": "ipython",
    "version": 3
   },
   "file_extension": ".py",
   "mimetype": "text/x-python",
   "name": "python",
   "nbconvert_exporter": "python",
   "pygments_lexer": "ipython3",
   "version": "3.11.9"
  }
 },
 "nbformat": 4,
 "nbformat_minor": 5
}

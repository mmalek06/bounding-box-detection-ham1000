{
 "cells": [
  {
   "cell_type": "code",
   "id": "initial_id",
   "metadata": {
    "ExecuteTime": {
     "end_time": "2024-06-22T17:45:28.716218Z",
     "start_time": "2024-06-22T17:45:28.712260Z"
    }
   },
   "source": [
    "from PIL import Image\n",
    "\n",
    "import pandas as pd\n",
    "import json\n",
    "import os"
   ],
   "outputs": [],
   "execution_count": 13
  },
  {
   "cell_type": "code",
   "id": "7d94afb1cac14f13",
   "metadata": {
    "ExecuteTime": {
     "end_time": "2024-06-22T17:45:29.051564Z",
     "start_time": "2024-06-22T17:45:29.037429Z"
    }
   },
   "source": [
    "coco_format = {\n",
    "    \"info\": {\n",
    "        \"description\": \"HAM10000 Dataset\",\n",
    "        \"url\": \"\",\n",
    "        \"version\": \"1.0\",\n",
    "        \"year\": 2024,\n",
    "        \"contributor\": \"\",\n",
    "        \"date_created\": \"\"\n",
    "    },\n",
    "    \"licenses\": [\n",
    "        {\n",
    "            \"id\": 1,\n",
    "            \"name\": \"\",\n",
    "            \"url\": \"\"\n",
    "        }\n",
    "    ],\n",
    "    \"images\": [],\n",
    "    \"annotations\": [],\n",
    "    \"categories\": [\n",
    "        {\n",
    "            \"id\": 1,\n",
    "            \"name\": \"lesion\",\n",
    "            \"supercategory\": \"none\"\n",
    "        }\n",
    "    ]\n",
    "}"
   ],
   "outputs": [],
   "execution_count": 14
  },
  {
   "cell_type": "code",
   "id": "dbb43fd65ce0ba1a",
   "metadata": {
    "ExecuteTime": {
     "end_time": "2024-06-22T17:45:29.396677Z",
     "start_time": "2024-06-22T17:45:29.373133Z"
    }
   },
   "source": [
    "csv_file = os.path.join(\"data\", \"HAM10000_metadata_ext.csv\")\n",
    "images_folder = os.path.join(\"data\", \"images\")\n",
    "df = pd.read_csv(csv_file)"
   ],
   "outputs": [],
   "execution_count": 15
  },
  {
   "cell_type": "code",
   "id": "6e67f08c58889c02",
   "metadata": {
    "ExecuteTime": {
     "end_time": "2024-06-22T17:45:34.726633Z",
     "start_time": "2024-06-22T17:45:29.708912Z"
    }
   },
   "source": [
    "image_id_mapping = {}\n",
    "annotation_id = 1\n",
    "\n",
    "for index, row in df.iterrows():\n",
    "    image_id = row[\"image_id\"]\n",
    "    \n",
    "    if image_id not in image_id_mapping:\n",
    "        image_id_mapping[image_id] = len(image_id_mapping) + 1\n",
    "        image_entry = {\n",
    "            \"id\": image_id_mapping[image_id],\n",
    "            \"width\": 200,\n",
    "            \"height\": 150,\n",
    "            \"file_name\": f\"{image_id}.jpg\",\n",
    "            \"license\": 1,\n",
    "            \"flickr_url\": \"\",\n",
    "            \"coco_url\": \"\",\n",
    "            \"date_captured\": \"\"\n",
    "        }\n",
    "\n",
    "        image_path = os.path.join(images_folder, f\"{image_id}.jpg\")\n",
    "        \n",
    "        try:\n",
    "            with Image.open(image_path) as img:\n",
    "                image_entry[\"width\"], image_entry[\"height\"] = img.size\n",
    "        except Exception as e:\n",
    "            print(f\"Error opening image {image_path}: {e}\")\n",
    "\n",
    "        coco_format[\"images\"].append(image_entry)\n",
    "\n",
    "    annotation_entry = {\n",
    "        \"id\": annotation_id,\n",
    "        \"image_id\": image_id_mapping[image_id],\n",
    "        \"category_id\": 1,\n",
    "        \"bbox\": [row[\"left\"], row[\"top\"], row[\"right\"] - row[\"left\"], row[\"bottom\"] - row[\"top\"]],\n",
    "        \"area\": (row[\"right\"] - row[\"left\"]) * (row[\"bottom\"] - row[\"top\"]),\n",
    "        \"segmentation\": [],\n",
    "        \"iscrowd\": 0\n",
    "    }\n",
    "    coco_format[\"annotations\"].append(annotation_entry)\n",
    "    annotation_id += 1\n",
    "\n",
    "output_file = os.path.join(\"data\", \"coco_annotations.json\")\n",
    "\n",
    "with open(output_file, \"w\") as f:\n",
    "    json.dump(coco_format, f, indent=4)\n",
    "\n",
    "print(f\"COCO format annotations saved to {output_file}\")"
   ],
   "outputs": [
    {
     "name": "stdout",
     "output_type": "stream",
     "text": [
      "COCO format annotations saved to data\\coco_annotations.json\n"
     ]
    }
   ],
   "execution_count": 16
  },
  {
   "cell_type": "code",
   "execution_count": null,
   "id": "98ae7bc7-38aa-456f-9e97-4f9492ded2bb",
   "metadata": {},
   "outputs": [],
   "source": []
  }
 ],
 "metadata": {
  "kernelspec": {
   "display_name": "Python [conda env:.conda-bounding_box_detection_ham10000_torch] *",
   "language": "python",
   "name": "conda-env-.conda-bounding_box_detection_ham10000_torch-py"
  },
  "language_info": {
   "codemirror_mode": {
    "name": "ipython",
    "version": 3
   },
   "file_extension": ".py",
   "mimetype": "text/x-python",
   "name": "python",
   "nbconvert_exporter": "python",
   "pygments_lexer": "ipython3",
   "version": "3.11.9"
  }
 },
 "nbformat": 4,
 "nbformat_minor": 5
}
